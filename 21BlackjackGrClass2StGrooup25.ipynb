{
  "nbformat": 4,
  "nbformat_minor": 0,
  "metadata": {
    "colab": {
      "name": "21BlackjackGrClass2StGrooup25.ipynb",
      "provenance": [],
      "collapsed_sections": [],
      "toc_visible": true
    },
    "kernelspec": {
      "name": "python3",
      "display_name": "Python 3"
    }
  },
  "cells": [
    {
      "cell_type": "code",
      "metadata": {
        "id": "ev0o1OoV7kMH",
        "colab_type": "code",
        "colab": {}
      },
      "source": [
        "import random as r\n",
        "import matplotlib.pyplot as plt\n",
        "import numpy as np"
      ],
      "execution_count": 1,
      "outputs": []
    },
    {
      "cell_type": "markdown",
      "metadata": {
        "id": "C2JJiOaIEnBg",
        "colab_type": "text"
      },
      "source": [
        "## 21 BLACKJACK\n"
      ]
    },
    {
      "cell_type": "code",
      "metadata": {
        "id": "uF9ln0VQIxdP",
        "colab_type": "code",
        "colab": {}
      },
      "source": [
        "#suma interna de la lista\n",
        "def sumalista(list):\n",
        "    laSuma = 0\n",
        "    for i in list :\n",
        "        laSuma = laSuma + i\n",
        "    return laSuma"
      ],
      "execution_count": 2,
      "outputs": []
    },
    {
      "cell_type": "markdown",
      "metadata": {
        "id": "bYTp2jYDPI6r",
        "colab_type": "text"
      },
      "source": [
        "##1."
      ]
    },
    {
      "cell_type": "markdown",
      "metadata": {
        "id": "fbDrAsiPRs7V",
        "colab_type": "text"
      },
      "source": [
        "### Baraja Española 11 12"
      ]
    },
    {
      "cell_type": "code",
      "metadata": {
        "id": "ieRTM_REE0pA",
        "colab_type": "code",
        "colab": {
          "base_uri": "https://localhost:8080/",
          "height": 329
        },
        "outputId": "35b29295-057c-4be9-d3b2-2d57b131cae7"
      },
      "source": [
        "b_e = [1,2,3,4,5,6,7,8,9,10,11,12,1,2,3,4,5,6,7,8,9,10,11,12,1,2,3,4,5,6,7,8,9,10,11,12,1,2,3,4,5,6,7,8,9,10,11,12] #baraja española\n",
        "m=[]     #mano jugador\n",
        "\n",
        "c_acierto=0 # contador aciertos\n",
        "w=[]\n",
        "n = 10000000  #iteraciones\n",
        "i=0\n",
        "while i < n:\n",
        "  i+= 1\n",
        "  suma_p =0 #suma provisional cada jugada\n",
        "  m=[]\n",
        "  \n",
        "  while sumalista(m) < 21:        #Juego\n",
        "    e = r.randrange(len(b_e))\n",
        "    m.append(b_e[e])              #agrega carta a la mano \n",
        "    b_e.pop(e)                    #quita carta de la baraja\n",
        "    suma_p=sumalista(m)\n",
        "    \n",
        "  if suma_p == 21:               #Contador\\\n",
        "      c_acierto += 1\n",
        "      w.append(len(m))  \n",
        "  \n",
        "  while len(m) != 0:\n",
        "                     #devolucion de cartas\n",
        "    b_e.append(m[-1])\n",
        "    m.pop(-1)\n",
        "\n",
        "\n",
        "print(\"ratio: \",c_acierto/n)\n",
        "print(\"aciertos\", c_acierto)\n",
        "plt.xlabel('Numero de cartas')\n",
        "plt.ylabel('veces')\n",
        "plt.title('Cantidad de cartas para hacer 21')\n",
        "plt.hist(w,density=True,bins=max(w)-min(w))\n",
        "plt.show()"
      ],
      "execution_count": 3,
      "outputs": [
        {
          "output_type": "stream",
          "text": [
            "ratio:  0.1577903\n",
            "aciertos 1577903\n"
          ],
          "name": "stdout"
        },
        {
          "output_type": "display_data",
          "data": {
            "image/png": "[encoded data removed]",
            "text/plain": [
              "<Figure size 432x288 with 1 Axes>"
            ]
          },
          "metadata": {
            "tags": [],
            "needs_background": "light"
          }
        }
      ]
    },
    {
      "cell_type": "markdown",
      "metadata": {
        "id": "1KNHt2I0dy9D",
        "colab_type": "text"
      },
      "source": [
        "###Poker 11,12,13"
      ]
    },
    {
      "cell_type": "code",
      "metadata": {
        "id": "Ob0bGFX5eAmU",
        "colab_type": "code",
        "colab": {
          "base_uri": "https://localhost:8080/",
          "height": 329
        },
        "outputId": "420c1d55-8fe5-4dde-fc5a-031c33357da1"
      },
      "source": [
        "b_e = [1,2,3,4,5,6,7,8,9,10,11,12,13,1,2,3,4,5,6,7,8,9,10,11,12,13,1,2,3,4,5,6,7,8,9,10,11,12,13,1,2,3,4,5,6,7,8,9,10,11,12,13] #baraja española\n",
        "m=[]     #mano jugador\n",
        "\n",
        "c_acierto=0 # contador aciertos\n",
        "w=[]\n",
        "n = 10000   #iteraciones\n",
        "i=0\n",
        "while i < n:\n",
        "  suma_p =0 #suma provisional cada jugada\n",
        "  i+= 1\n",
        "  while sumalista(m) < 21:        #Juego\n",
        "    e = r.randrange(len(b_e))\n",
        "    m.append(b_e[e])              #agrega carta a la mano \n",
        "    b_e.pop(e)                    #quita carta de la baraja\n",
        "    suma_p=sumalista(m)\n",
        "  if suma_p == 21:               #Contador\\\n",
        "      c_acierto += 1\n",
        "      w.append(len(m))\n",
        "\n",
        "  while len(m) != 0:\n",
        "                     #devolucion de cartas\n",
        "    b_e.append(m[0])\n",
        "    m.pop(0)\n",
        "\n",
        "print(\"ratio: \",c_acierto/n)\n",
        "print(\"aciertos\", c_acierto)\n",
        "plt.xlabel('Numero de cartas')\n",
        "plt.ylabel('veces')\n",
        "plt.title('Cantidad de cartas para hacer 21')\n",
        "plt.hist(w,density=True,bins=max(w)-min(w))\n",
        "plt.show()"
      ],
      "execution_count": 4,
      "outputs": [
        {
          "output_type": "stream",
          "text": [
            "ratio:  0.1417\n",
            "aciertos 1417\n"
          ],
          "name": "stdout"
        },
        {
          "output_type": "display_data",
          "data": {
            "image/png": "[encoded data removed]",
            "text/plain": [
              "<Figure size 432x288 with 1 Axes>"
            ]
          },
          "metadata": {
            "tags": [],
            "needs_background": "light"
          }
        }
      ]
    },
    {
      "cell_type": "markdown",
      "metadata": {
        "id": "eunJZNlIeTlx",
        "colab_type": "text"
      },
      "source": [
        "# 2. "
      ]
    },
    {
      "cell_type": "markdown",
      "metadata": {
        "id": "XWFaC_EsaAl6",
        "colab_type": "text"
      },
      "source": [
        "si las figuras valen '10'"
      ]
    },
    {
      "cell_type": "markdown",
      "metadata": {
        "id": "eOoK6IDUk_Vi",
        "colab_type": "text"
      },
      "source": [
        "### espanola"
      ]
    },
    {
      "cell_type": "markdown",
      "metadata": {
        "id": "mzcBtfzzZ_Yb",
        "colab_type": "text"
      },
      "source": [
        ""
      ]
    },
    {
      "cell_type": "code",
      "metadata": {
        "id": "QcGDm7MDl9ic",
        "colab_type": "code",
        "colab": {
          "base_uri": "https://localhost:8080/",
          "height": 329
        },
        "outputId": "69cfe265-bad1-44ee-adae-10d2219926be"
      },
      "source": [
        "b_e = [1,2,3,4,5,6,7,8,9,10,10,10,1,2,3,4,5,6,7,8,9,10,10,10,1,2,3,4,5,6,7,8,9,10,10,10,1,2,3,4,5,6,7,8,9,10,10,10] #baraja española\n",
        "m=[]     #mano jugador\n",
        "\n",
        "c_acierto=0 # contador aciertos\n",
        "w=[]\n",
        "n = 10000   #iteraciones\n",
        "i=0\n",
        "while i < n:\n",
        "  suma_p =0 #suma provisional cada jugada\n",
        "  i+= 1\n",
        "  while sumalista(m) < 21:        #Juego\n",
        "    e = r.randrange(len(b_e))\n",
        "    m.append(b_e[e])              #agrega carta a la mano \n",
        "    b_e.pop(e)                    #quita carta de la baraja\n",
        "    suma_p=sumalista(m)\n",
        "  if suma_p == 21:               #Contador\\\n",
        "      c_acierto += 1\n",
        "      w.append(len(m))\n",
        "  while len(m) != 0:             \n",
        "                     #devolucion de cartas\n",
        "    b_e.append(m[0])\n",
        "    m.pop(0)\n",
        "\n",
        "print(\"ratio: \",c_acierto/n)\n",
        "print(\"aciertos\", c_acierto)\n",
        "plt.xlabel('Numero de cartas')\n",
        "plt.ylabel('veces')\n",
        "plt.title('Cantidad de cartas para hacer 21')\n",
        "plt.hist(w,density=True,bins=max(w)-min(w))\n",
        "plt.show()"
      ],
      "execution_count": 5,
      "outputs": [
        {
          "output_type": "stream",
          "text": [
            "ratio:  0.1467\n",
            "aciertos 1467\n"
          ],
          "name": "stdout"
        },
        {
          "output_type": "display_data",
          "data": {
            "image/png": "[encoded data removed]",
            "text/plain": [
              "<Figure size 432x288 with 1 Axes>"
            ]
          },
          "metadata": {
            "tags": [],
            "needs_background": "light"
          }
        }
      ]
    },
    {
      "cell_type": "markdown",
      "metadata": {
        "id": "cDKAEnCclhkp",
        "colab_type": "text"
      },
      "source": [
        "### Poker"
      ]
    },
    {
      "cell_type": "code",
      "metadata": {
        "id": "GAAGdsUWllFF",
        "colab_type": "code",
        "colab": {
          "base_uri": "https://localhost:8080/",
          "height": 329
        },
        "outputId": "e432cda0-270e-43de-fe8a-2afa40688fe8"
      },
      "source": [
        "b_e = [1,2,3,4,5,6,7,8,9,10,10,10,10,1,2,3,4,5,6,7,8,9,10,10,10,10,1,2,3,4,5,6,7,8,9,10,10,10,10,1,2,3,4,5,6,7,8,9,10,10,10,10] #baraja española\n",
        "m=[]     #mano jugador\n",
        "\n",
        "c_acierto=0 # contador aciertos\n",
        "w=[]\n",
        "n = 10000   #iteraciones\n",
        "i=0\n",
        "while i < n:\n",
        "  suma_p =0 #suma provisional cada jugada\n",
        "  i+= 1\n",
        "  while sumalista(m) < 21:        #Juego\n",
        "    e = r.randrange(len(b_e))\n",
        "    m.append(b_e[e])              #agrega carta a la mano \n",
        "    b_e.pop(e)                    #quita carta de la baraja\n",
        "    suma_p=sumalista(m)\n",
        "  if suma_p == 21:               #Contador\\\n",
        "      c_acierto += 1\n",
        "      w.append(len(m))\n",
        "  while len(m) != 0:\n",
        "                     #devolucion de cartas\n",
        "    b_e.append(m[0])\n",
        "    m.pop(0)\n",
        "\n",
        "print(\"ratio: \",c_acierto/n)\n",
        "print(\"aciertos\", c_acierto)\n",
        "plt.xlabel('Numero de cartas')\n",
        "plt.ylabel('veces')\n",
        "plt.title('Cantidad de cartas para hacer 21')\n",
        "plt.hist(w,density=True,bins=max(w)-min(w))\n",
        "plt.show()"
      ],
      "execution_count": 6,
      "outputs": [
        {
          "output_type": "stream",
          "text": [
            "ratio:  0.1414\n",
            "aciertos 1414\n"
          ],
          "name": "stdout"
        },
        {
          "output_type": "display_data",
          "data": {
            "image/png": "[encoded data removed]",
            "text/plain": [
              "<Figure size 432x288 with 1 Axes>"
            ]
          },
          "metadata": {
            "tags": [],
            "needs_background": "light"
          }
        }
      ]
    },
    {
      "cell_type": "markdown",
      "metadata": {
        "id": "6lVE3UcCoV8k",
        "colab_type": "text"
      },
      "source": [
        "# 3. \n",
        "\n"
      ]
    },
    {
      "cell_type": "markdown",
      "metadata": {
        "id": "n8w0gjnnaGQ_",
        "colab_type": "text"
      },
      "source": [
        "A medio Juego"
      ]
    },
    {
      "cell_type": "markdown",
      "metadata": {
        "id": "hArSbWEh-GIz",
        "colab_type": "text"
      },
      "source": [
        "baraja espa      10,11,12"
      ]
    },
    {
      "cell_type": "code",
      "metadata": {
        "id": "S0fGABU7fnyA",
        "colab_type": "code",
        "colab": {
          "base_uri": "https://localhost:8080/",
          "height": 329
        },
        "outputId": "b8b52036-6f9c-4be5-baae-34725c12be16"
      },
      "source": [
        "b_e = [1,2,3,4,5,6,7,8,9,10,11,12,1,2,3,4,5,6,7,8,9,10,11,12,1,2,3,4,5,6,7,8,9,10,11,12,1,2,3,4,5,6,7,8,9,10,11,12] #baraja española\n",
        "h =[]       #cartas salidas del juego\n",
        "\n",
        "c_acierto=0 # contador aciertos\n",
        "w=[]\n",
        "n = 10000   #iteraciones\n",
        "i=0\n",
        "k=(len(b_e)/2)\n",
        "while i < n:\n",
        "  suma_p =0 #suma provisional cada jugada\n",
        "  b_e = [1,2,3,4,6,8,9,10,11,12,1,2,3,4,5,6,8,9,10,11,12,1,2,3,4,5,6,7,8,9,10,11,12,1,2,3,4,5,6,7,8,9,10,11,12]\n",
        "  i+= 1\n",
        "  j=0 #iteracion de sacar cartas\n",
        "  m = [7,7,5]       #mano jugador\n",
        "  while j <= k:\n",
        "    j+=1                      #se desocupa medio deck\n",
        "    f = r.randrange(len(b_e))\n",
        "    h.append(b_e[f])\n",
        "    b_e.pop(f)\n",
        "  while sumalista(m) < 21:        #Juego\n",
        "    e = r.randrange(len(b_e))\n",
        "    m.append(b_e[e])              #agrega carta a la mano \n",
        "    b_e.pop(e)                    #quita carta de la baraja\n",
        "    suma_p=sumalista(m)\n",
        "  if suma_p == 21:               #Contador\\\n",
        "      c_acierto += 1\n",
        "      w.append(len(m))\n",
        "  while len(m) != 0:\n",
        "                     #devolucion de cartas\n",
        "    b_e.append(m[0])\n",
        "    m.pop(0)\n",
        "#print(w)\n",
        "print(\"ratio: \",c_acierto/n)\n",
        "print(\"aciertos\", c_acierto)\n",
        "plt.xlabel('Numero de cartas')\n",
        "plt.ylabel('veces')\n",
        "plt.title('Cantidad de cartas para hacer 21')\n",
        "plt.hist(w,density=True)\n",
        "plt.show()"
      ],
      "execution_count": 7,
      "outputs": [
        {
          "output_type": "stream",
          "text": [
            "ratio:  0.0952\n",
            "aciertos 952\n"
          ],
          "name": "stdout"
        },
        {
          "output_type": "display_data",
          "data": {
            "image/png": "[encoded data removed]",
            "text/plain": [
              "<Figure size 432x288 with 1 Axes>"
            ]
          },
          "metadata": {
            "tags": [],
            "needs_background": "light"
          }
        }
      ]
    },
    {
      "cell_type": "markdown",
      "metadata": {
        "id": "vvROI1U3-OjA",
        "colab_type": "text"
      },
      "source": [
        "Poker 10,11,12,13"
      ]
    },
    {
      "cell_type": "code",
      "metadata": {
        "id": "H3bYyrzulds9",
        "colab_type": "code",
        "colab": {
          "base_uri": "https://localhost:8080/",
          "height": 329
        },
        "outputId": "eebb3b8d-7aa7-4b61-93c9-3005d143a603"
      },
      "source": [
        "b_e = [1,2,3,4,5,6,7,8,9,10,11,12,13,1,2,3,4,5,6,7,8,9,10,11,12,13,1,2,3,4,5,6,7,8,9,10,11,12,13,1,2,3,4,5,6,7,8,9,10,11,12,13] #baraja española\n",
        "h =[]       #cartas salidas del juego\n",
        "\n",
        "c_acierto=0 # contador aciertos\n",
        "w=[]\n",
        "n = 10000   #iteraciones\n",
        "i=0\n",
        "k=(len(b_e)/2)\n",
        "while i < n:\n",
        "  suma_p =0 #suma provisional cada jugada\n",
        "  b_e = [1,2,3,4,6,8,9,10,11,12,13,1,2,3,4,5,6,8,9,10,11,12,13,1,2,3,4,5,6,7,8,9,10,11,12,13,1,2,3,4,5,6,7,8,9,10,11,12,13]\n",
        "  i+= 1\n",
        "  j=0 #iteracion de sacar cartas\n",
        "  m = [7,7,5]       #mano jugador\n",
        "  while j <= k:\n",
        "    j+=1                      #se desocupa medio deck\n",
        "    f = r.randrange(len(b_e))\n",
        "    h.append(b_e[f])\n",
        "    b_e.pop(f)\n",
        "  while sumalista(m) < 21:        #Juego\n",
        "    e = r.randrange(len(b_e))\n",
        "    m.append(b_e[e])              #agrega carta a la mano \n",
        "    b_e.pop(e)                    #quita carta de la baraja\n",
        "    suma_p=sumalista(m)\n",
        "  if suma_p == 21:               #Contador\\\n",
        "      c_acierto += 1\n",
        "      w.append(len(m))\n",
        "  while len(m) != 0:\n",
        "                     #devolucion de cartas\n",
        "    b_e.append(m[0])\n",
        "    m.pop(0)\n",
        "#print(w)\n",
        "print(\"ratio: \",c_acierto/n)\n",
        "print(\"aciertos\", c_acierto)\n",
        "plt.xlabel('Numero de cartas')\n",
        "plt.ylabel('veces')\n",
        "plt.title('Cantidad de cartas para hacer 21')\n",
        "plt.hist(w,density=True)\n",
        "plt.show()"
      ],
      "execution_count": 8,
      "outputs": [
        {
          "output_type": "stream",
          "text": [
            "ratio:  0.0867\n",
            "aciertos 867\n"
          ],
          "name": "stdout"
        },
        {
          "output_type": "display_data",
          "data": {
            "image/png": "[encoded data removed]",
            "text/plain": [
              "<Figure size 432x288 with 1 Axes>"
            ]
          },
          "metadata": {
            "tags": [],
            "needs_background": "light"
          }
        }
      ]
    },
    {
      "cell_type": "markdown",
      "metadata": {
        "id": "k1hJDheq9aur",
        "colab_type": "text"
      },
      "source": [
        "Poker 4-10"
      ]
    },
    {
      "cell_type": "code",
      "metadata": {
        "id": "ZXJw-cTZlWrX",
        "colab_type": "code",
        "colab": {
          "base_uri": "https://localhost:8080/",
          "height": 329
        },
        "outputId": "07bddf0a-018b-44a4-b390-e19f6a00f3ce"
      },
      "source": [
        "b_e = [1,2,3,4,5,6,7,8,9,10,10,10,10,1,2,3,4,5,6,7,8,9,10,10,10,10,1,2,3,4,5,6,7,8,9,10,10,10,10,1,2,3,4,5,6,7,8,9,10,10,10,10] #baraja española\n",
        "h =[]       #cartas salidas del juego\n",
        "\n",
        "c_acierto=0 # contador aciertos\n",
        "w=[]\n",
        "n = 10000   #iteraciones\n",
        "i=0\n",
        "k=(len(b_e)/2)\n",
        "while i < n:\n",
        "  suma_p =0 #suma provisional cada jugada\n",
        "  b_e = [1,2,3,4,6,8,9,10,10,10,10,1,2,3,4,5,6,8,9,10,10,10,10,1,2,3,4,5,6,7,8,9,10,10,10,10,1,2,3,4,5,6,7,8,9,10,10,10,10]\n",
        "  i+= 1\n",
        "  j=0 #iteracion de sacar cartas\n",
        "  m = [7,7,5]       #mano jugador\n",
        "  while j <= k:\n",
        "    j+=1                      #se desocupa medio deck\n",
        "    f = r.randrange(len(b_e))\n",
        "    h.append(b_e[f])\n",
        "    b_e.pop(f)\n",
        "  while sumalista(m) < 21:        #Juego\n",
        "    e = r.randrange(len(b_e))\n",
        "    m.append(b_e[e])              #agrega carta a la mano \n",
        "    b_e.pop(e)                    #quita carta de la baraja\n",
        "    suma_p=sumalista(m)\n",
        "  if suma_p == 21:               #Contador\\\n",
        "      c_acierto += 1\n",
        "      w.append(len(m))\n",
        "  while len(m) != 0:\n",
        "                     #devolucion de cartas\n",
        "    b_e.append(m[0])\n",
        "    m.pop(0)\n",
        "#print(w)\n",
        "print(\"ratio: \",c_acierto/n)\n",
        "print(\"aciertos\", c_acierto)\n",
        "plt.xlabel('Numero de cartas')\n",
        "plt.ylabel('veces')\n",
        "plt.title('Cantidad de cartas para hacer 21')\n",
        "plt.hist(w,density=True)\n",
        "plt.show()"
      ],
      "execution_count": 9,
      "outputs": [
        {
          "output_type": "stream",
          "text": [
            "ratio:  0.0903\n",
            "aciertos 903\n"
          ],
          "name": "stdout"
        },
        {
          "output_type": "display_data",
          "data": {
            "image/png": "[encoded data removed]",
            "text/plain": [
              "<Figure size 432x288 with 1 Axes>"
            ]
          },
          "metadata": {
            "tags": [],
            "needs_background": "light"
          }
        }
      ]
    },
    {
      "cell_type": "markdown",
      "metadata": {
        "id": "wwzqWyQz_Hmz",
        "colab_type": "text"
      },
      "source": [
        "espanola 3-10"
      ]
    },
    {
      "cell_type": "code",
      "metadata": {
        "id": "21VHk-bXmF2Y",
        "colab_type": "code",
        "colab": {
          "base_uri": "https://localhost:8080/",
          "height": 329
        },
        "outputId": "05be07a4-8504-4f48-af9e-ca8dd7b8d7e9"
      },
      "source": [
        "b_e = [1,2,3,4,5,6,7,8,9,10,10,10,1,2,3,4,5,6,7,8,9,10,10,10,1,2,3,4,5,6,7,8,9,10,10,10,1,2,3,4,5,6,7,8,9,10,10,10] #baraja española\n",
        "h =[]       #cartas salidas del juego\n",
        "\n",
        "c_acierto=0 # contador aciertos\n",
        "w=[]\n",
        "n = 10000   #iteraciones\n",
        "i=0\n",
        "k=(len(b_e)/2)\n",
        "while i < n:\n",
        "  suma_p =0 #suma provisional cada jugada\n",
        "  b_e = [1,2,3,4,6,8,9,10,10,10,1,2,3,4,5,6,8,9,10,10,10,1,2,3,4,5,6,7,8,9,10,10,10,1,2,3,4,5,6,7,8,9,10,10,10]\n",
        "  i+= 1\n",
        "  j=0 #iteracion de sacar cartas\n",
        "  m = [7,7,5]       #mano jugador\n",
        "  while j <= k:\n",
        "    j+=1                      #se desocupa medio deck\n",
        "    f = r.randrange(len(b_e))\n",
        "    h.append(b_e[f])\n",
        "    b_e.pop(f)\n",
        "  while sumalista(m) < 21:        #Juego\n",
        "    e = r.randrange(len(b_e))\n",
        "    m.append(b_e[e])              #agrega carta a la mano \n",
        "    b_e.pop(e)                    #quita carta de la baraja\n",
        "    suma_p=sumalista(m)\n",
        "  if suma_p == 21:               #Contador\\\n",
        "      c_acierto += 1\n",
        "      w.append(len(m))\n",
        "  while len(m) != 0:\n",
        "                     #devolucion de cartas\n",
        "    b_e.append(m[0])\n",
        "    m.pop(0)\n",
        "#print(w)\n",
        "print(\"ratio: \",c_acierto/n)\n",
        "print(\"aciertos\", c_acierto)\n",
        "plt.xlabel('Numero de cartas')\n",
        "plt.ylabel('veces')\n",
        "plt.title('Cantidad de cartas para hacer 21')\n",
        "plt.hist(w,density=True)\n",
        "plt.show()"
      ],
      "execution_count": 10,
      "outputs": [
        {
          "output_type": "stream",
          "text": [
            "ratio:  0.0942\n",
            "aciertos 942\n"
          ],
          "name": "stdout"
        },
        {
          "output_type": "display_data",
          "data": {
            "image/png": "[encoded data removed]",
            "text/plain": [
              "<Figure size 432x288 with 1 Axes>"
            ]
          },
          "metadata": {
            "tags": [],
            "needs_background": "light"
          }
        }
      ]
    },
    {
      "cell_type": "markdown",
      "metadata": {
        "id": "ESsmjZMeDIc8",
        "colab_type": "text"
      },
      "source": [
        "# 4. "
      ]
    },
    {
      "cell_type": "markdown",
      "metadata": {
        "id": "yJQWJRB0aPup",
        "colab_type": "text"
      },
      "source": [
        "10 cartas faltantes"
      ]
    },
    {
      "cell_type": "markdown",
      "metadata": {
        "id": "fw6n6i2_sFgU",
        "colab_type": "text"
      },
      "source": [
        "###cold deck"
      ]
    },
    {
      "cell_type": "markdown",
      "metadata": {
        "colab_type": "text",
        "id": "iZ-mEtUsDh1n"
      },
      "source": [
        "Espanola  10,11,12"
      ]
    },
    {
      "cell_type": "code",
      "metadata": {
        "id": "JQIgJBvsmjZg",
        "colab_type": "code",
        "colab": {
          "base_uri": "https://localhost:8080/",
          "height": 298
        },
        "outputId": "3d2719c7-ef21-4a91-9a04-e1c9d1379f83"
      },
      "source": [
        "b_e = [1,2,3,4,5,6,7,8,9,10,11,12,1,2,3,4,5,6,7,8,9,10,11,12,1,2,3,4,5,6,7,8,9,10,11,12,1,2,3,4,5,6,7,8,9,10,11,12] #baraja española\n",
        "h =[]       #cartas salidas del juego\n",
        "\n",
        "c_acierto=0 # contador aciertos\n",
        "w=[]\n",
        "n = 10000   #iteraciones\n",
        "i=0\n",
        "k=10\n",
        "while i < n:\n",
        "  suma_p =0 #suma provisional cada jugada\n",
        "  b_e = [1,2,3,4,6,8,9,10,11,12,1,2,3,4,5,6,8,9,10,11,12,1,2,3,4,5,6,7,8,9,10,11,12,1,2,3,4,5,6,7,8,9,10,11,12]\n",
        "  i+= 1\n",
        "  j=0 #iteracion de sacar cartas\n",
        "  m = [7,7,5]       #mano jugador\n",
        "  while j <= k:\n",
        "    j+=1                      #se desocupa medio deck\n",
        "    f = r.randrange(len(b_e))\n",
        "    h.append(b_e[f])\n",
        "    b_e.pop(f)\n",
        "  while sumalista(m) < 21:        #Juego\n",
        "    e = r.randrange(len(b_e))\n",
        "    m.append(b_e[e])              #agrega carta a la mano \n",
        "    b_e.pop(e)                    #quita carta de la baraja\n",
        "    suma_p=sumalista(m)\n",
        "  if suma_p == 21:               #Contador\\\n",
        "      c_acierto += 1\n",
        "      w.append(len(m))\n",
        "  while len(m) != 0:\n",
        "                     #devolucion de cartas\n",
        "    b_e.append(m[0])\n",
        "    m.pop(0)\n",
        "#print(w)\n",
        "print(\"ratio: \",c_acierto/n)\n",
        "print(\"aciertos\", c_acierto)\n",
        "plt.hist(w,density=True)\n",
        "plt.show()"
      ],
      "execution_count": 11,
      "outputs": [
        {
          "output_type": "stream",
          "text": [
            "ratio:  0.0921\n",
            "aciertos 921\n"
          ],
          "name": "stdout"
        },
        {
          "output_type": "display_data",
          "data": {
            "image/png": "[encoded data removed]",
            "text/plain": [
              "<Figure size 432x288 with 1 Axes>"
            ]
          },
          "metadata": {
            "tags": [],
            "needs_background": "light"
          }
        }
      ]
    },
    {
      "cell_type": "markdown",
      "metadata": {
        "colab_type": "text",
        "id": "nhFWh7kyDh1t"
      },
      "source": [
        "Poker 10,11,12,13"
      ]
    },
    {
      "cell_type": "code",
      "metadata": {
        "id": "cmB38wImqlt_",
        "colab_type": "code",
        "colab": {
          "base_uri": "https://localhost:8080/",
          "height": 298
        },
        "outputId": "2b541431-786e-4fa7-fe97-242a3009eafe"
      },
      "source": [
        "b_e = [1,2,3,4,5,6,7,8,9,10,11,12,13,1,2,3,4,5,6,7,8,9,10,11,12,13,1,2,3,4,5,6,7,8,9,10,11,12,13,1,2,3,4,5,6,7,8,9,10,11,12,13] #baraja española\n",
        "h =[]       #cartas salidas del juego\n",
        "\n",
        "c_acierto=0 # contador aciertos\n",
        "w=[]\n",
        "n = 10000   #iteraciones\n",
        "i=0\n",
        "k=10\n",
        "while i < n:\n",
        "  suma_p =0 #suma provisional cada jugada\n",
        "  b_e = [1,2,3,4,6,8,9,10,11,12,13,1,2,3,4,5,6,8,9,10,11,12,13,1,2,3,4,5,6,7,8,9,10,11,12,13,1,2,3,4,5,6,7,8,9,10,11,12,13]\n",
        "  i+= 1\n",
        "  j=0 #iteracion de sacar cartas\n",
        "  m = [7,7,5]       #mano jugador\n",
        "  while j <= k:\n",
        "    j+=1                      #se desocupa medio deck\n",
        "    f = r.randrange(len(b_e))\n",
        "    h.append(b_e[f])\n",
        "    b_e.pop(f)\n",
        "  while sumalista(m) < 21:        #Juego\n",
        "    e = r.randrange(len(b_e))\n",
        "    m.append(b_e[e])              #agrega carta a la mano \n",
        "    b_e.pop(e)                    #quita carta de la baraja\n",
        "    suma_p=sumalista(m)\n",
        "  if suma_p == 21:               #Contador\\\n",
        "      c_acierto += 1\n",
        "      w.append(len(m))\n",
        "  while len(m) != 0:\n",
        "                     #devolucion de cartas\n",
        "    b_e.append(m[0])\n",
        "    m.pop(0)\n",
        "#print(w)\n",
        "print(\"ratio: \",c_acierto/n)\n",
        "print(\"aciertos\", c_acierto)\n",
        "plt.hist(w,density=True)\n",
        "plt.show()"
      ],
      "execution_count": 12,
      "outputs": [
        {
          "output_type": "stream",
          "text": [
            "ratio:  0.0889\n",
            "aciertos 889\n"
          ],
          "name": "stdout"
        },
        {
          "output_type": "display_data",
          "data": {
            "image/png": "[encoded data removed]",
            "text/plain": [
              "<Figure size 432x288 with 1 Axes>"
            ]
          },
          "metadata": {
            "tags": [],
            "needs_background": "light"
          }
        }
      ]
    },
    {
      "cell_type": "markdown",
      "metadata": {
        "colab_type": "text",
        "id": "eT-TbU1bDh1w"
      },
      "source": [
        "Poker 4-10"
      ]
    },
    {
      "cell_type": "code",
      "metadata": {
        "id": "ZzJIhVZRqqYm",
        "colab_type": "code",
        "colab": {
          "base_uri": "https://localhost:8080/",
          "height": 298
        },
        "outputId": "be223a33-2f42-4905-8c2e-d36fa4d8de6a"
      },
      "source": [
        "b_e = [1,2,3,4,5,6,7,8,9,10,10,10,10,1,2,3,4,5,6,7,8,9,10,10,10,10,1,2,3,4,5,6,7,8,9,10,10,10,10,1,2,3,4,5,6,7,8,9,10,10,10,10] #baraja española\n",
        "h =[]       #cartas salidas del juego\n",
        "\n",
        "c_acierto=0 # contador aciertos\n",
        "w=[]\n",
        "n = 10000   #iteraciones\n",
        "i=0\n",
        "k=10\n",
        "while i < n:\n",
        "  suma_p =0 #suma provisional cada jugada\n",
        "  b_e = [1,2,3,4,6,8,9,10,10,10,10,1,2,3,4,5,6,8,9,10,10,10,10,1,2,3,4,5,6,7,8,9,10,10,10,10,1,2,3,4,5,6,7,8,9,10,10,10,10]\n",
        "  i+= 1\n",
        "  j=0 #iteracion de sacar cartas\n",
        "  m = [7,7,5]       #mano jugador\n",
        "  while j <= k:\n",
        "    j+=1                      #se desocupa medio deck\n",
        "    f = r.randrange(len(b_e))\n",
        "    h.append(b_e[f])\n",
        "    b_e.pop(f)\n",
        "  while sumalista(m) < 21:        #Juego\n",
        "    e = r.randrange(len(b_e))\n",
        "    m.append(b_e[e])              #agrega carta a la mano \n",
        "    b_e.pop(e)                    #quita carta de la baraja\n",
        "    suma_p=sumalista(m)\n",
        "  if suma_p == 21:               #Contador\\\n",
        "      c_acierto += 1\n",
        "      w.append(len(m))\n",
        "  while len(m) != 0:\n",
        "                     #devolucion de cartas\n",
        "    b_e.append(m[0])\n",
        "    m.pop(0)\n",
        "#print(w)\n",
        "print(\"ratio: \",c_acierto/n)\n",
        "print(\"aciertos\", c_acierto)\n",
        "plt.hist(w,density=True)\n",
        "plt.show()"
      ],
      "execution_count": 13,
      "outputs": [
        {
          "output_type": "stream",
          "text": [
            "ratio:  0.0882\n",
            "aciertos 882\n"
          ],
          "name": "stdout"
        },
        {
          "output_type": "display_data",
          "data": {
            "image/png": "[encoded data removed]",
            "text/plain": [
              "<Figure size 432x288 with 1 Axes>"
            ]
          },
          "metadata": {
            "tags": [],
            "needs_background": "light"
          }
        }
      ]
    },
    {
      "cell_type": "markdown",
      "metadata": {
        "colab_type": "text",
        "id": "lcTahooUDh10"
      },
      "source": [
        "poker 3-10"
      ]
    },
    {
      "cell_type": "code",
      "metadata": {
        "id": "0znvOBJ9qrfp",
        "colab_type": "code",
        "colab": {
          "base_uri": "https://localhost:8080/",
          "height": 298
        },
        "outputId": "935184b3-093a-4d58-a08d-88c182a208be"
      },
      "source": [
        "b_e = [1,2,3,4,5,6,7,8,9,10,10,10,1,2,3,4,5,6,7,8,9,10,10,10,1,2,3,4,5,6,7,8,9,10,10,10,1,2,3,4,5,6,7,8,9,10,10,10] #baraja española\n",
        "h =[]       #cartas salidas del juego\n",
        "\n",
        "c_acierto=0 # contador aciertos\n",
        "w=[]\n",
        "n = 10000   #iteraciones\n",
        "i=0\n",
        "k=10\n",
        "while i < n:\n",
        "  suma_p =0 #suma provisional cada jugada\n",
        "  b_e = [1,2,3,4,6,8,9,10,10,10,1,2,3,4,5,6,8,9,10,10,10,1,2,3,4,5,6,7,8,9,10,10,10,1,2,3,4,5,6,7,8,9,10,10,10]\n",
        "  i+= 1\n",
        "  j=0 #iteracion de sacar cartas\n",
        "  m = [7,7,5]       #mano jugador\n",
        "  while j <= k:\n",
        "    j+=1                      #se desocupa medio deck\n",
        "    f = r.randrange(len(b_e))\n",
        "    h.append(b_e[f])\n",
        "    b_e.pop(f)\n",
        "  while sumalista(m) < 21:        #Juego\n",
        "    e = r.randrange(len(b_e))\n",
        "    m.append(b_e[e])              #agrega carta a la mano \n",
        "    b_e.pop(e)                    #quita carta de la baraja\n",
        "    suma_p=sumalista(m)\n",
        "  if suma_p == 21:               #Contador\\\n",
        "      c_acierto += 1\n",
        "      w.append(len(m))\n",
        "  while len(m) != 0:\n",
        "                     #devolucion de cartas\n",
        "    b_e.append(m[0])\n",
        "    m.pop(0)\n",
        "#print(w)\n",
        "print(\"ratio: \",c_acierto/n)\n",
        "print(\"aciertos\", c_acierto)\n",
        "plt.hist(w,density=True)\n",
        "plt.show()"
      ],
      "execution_count": 14,
      "outputs": [
        {
          "output_type": "stream",
          "text": [
            "ratio:  0.0942\n",
            "aciertos 942\n"
          ],
          "name": "stdout"
        },
        {
          "output_type": "display_data",
          "data": {
            "image/png": "[encoded data removed]",
            "text/plain": [
              "<Figure size 432x288 with 1 Axes>"
            ]
          },
          "metadata": {
            "tags": [],
            "needs_background": "light"
          }
        }
      ]
    },
    {
      "cell_type": "markdown",
      "metadata": {
        "id": "_3caBlyHsaCa",
        "colab_type": "text"
      },
      "source": [
        "###hotdeck"
      ]
    },
    {
      "cell_type": "code",
      "metadata": {
        "id": "XxQqRgZ4seWT",
        "colab_type": "code",
        "colab": {
          "base_uri": "https://localhost:8080/",
          "height": 298
        },
        "outputId": "73320039-e2d6-41fb-9469-d2b903c02f09"
      },
      "source": [
        "b_c = [3,4,6,8,9,10,10,10,3,4,5,6,8,9,10,10,10,3,4,5,6,7,8,9,10,10,10,3,4,5,6,7,8,9,10,10,10]\n",
        "c_acierto=0 # contador aciertos\n",
        "w=[]\n",
        "n = 10000   #iteraciones\n",
        "i=0\n",
        "k=10\n",
        "while i < n:\n",
        "  suma_p =0 #suma provisional cada jugada\n",
        "  b_e = [1,1,1,1,2,2,2,2]\n",
        "  while len(b_e)<k:\n",
        "    b_e.append(b_c[r.randrange(len(b_c))])\n",
        "  i+= 1\n",
        "  j=0 #iteracion de sacar cartas\n",
        "  m = [7,7,5]       #mano jugador\n",
        "  while sumalista(m) < 21:        #Juego\n",
        "    e = r.randrange(len(b_e))\n",
        "    m.append(b_e[e])              #agrega carta a la mano \n",
        "    b_e.pop(e)                    #quita carta de la baraja\n",
        "    suma_p=sumalista(m)\n",
        "  if suma_p == 21:               #Contador\\\n",
        "      c_acierto += 1\n",
        "      w.append(len(m))\n",
        "  while len(m) != 0:\n",
        "                     #devolucion de cartas\n",
        "    b_e.append(m[0])\n",
        "    m.pop(0)\n",
        "#print(w)\n",
        "print(\"ratio: \",c_acierto/n)\n",
        "print(\"aciertos\", c_acierto)\n",
        "plt.hist(w,density=True)\n",
        "plt.show()"
      ],
      "execution_count": 15,
      "outputs": [
        {
          "output_type": "stream",
          "text": [
            "ratio:  0.533\n",
            "aciertos 5330\n"
          ],
          "name": "stdout"
        },
        {
          "output_type": "display_data",
          "data": {
            "image/png": "[encoded data removed]",
            "text/plain": [
              "<Figure size 432x288 with 1 Axes>"
            ]
          },
          "metadata": {
            "tags": [],
            "needs_background": "light"
          }
        }
      ]
    },
    {
      "cell_type": "markdown",
      "metadata": {
        "id": "2SIGOaWfr0kD",
        "colab_type": "text"
      },
      "source": [
        "#5."
      ]
    },
    {
      "cell_type": "markdown",
      "metadata": {
        "id": "J-n4ES4q1n_g",
        "colab_type": "text"
      },
      "source": [
        "Aplica para todas las barajas\n"
      ]
    },
    {
      "cell_type": "code",
      "metadata": {
        "id": "_qu7Xhg2vxgV",
        "colab_type": "code",
        "colab": {
          "base_uri": "https://localhost:8080/",
          "height": 319
        },
        "outputId": "823431b0-d846-4f4d-ed4e-0f591c1b8e8e"
      },
      "source": [
        "h =[]       #cartas salidas del juego\n",
        "suma_p =0 #suma provisional cada jugada\n",
        "c_acierto=0 # contador aciertos\n",
        "w=[]\n",
        "n = 600   #Juegos en los que está Ben por fin de semana\n",
        "b=0       #billeteraa de ben\n",
        "i=0\n",
        "apuesta =0 #apuesta\n",
        "k=10\n",
        "while i < n:\n",
        "  if (r.random()<0.1):\n",
        "    b_e = [1,2,3,1,2,3,1,2,3,1,2,3]   #hot deck\n",
        "    apuesta = 1000\n",
        "  else:\n",
        "    b_e = [6,8,9,10,11,12,6,8,9,10,11,12,6,7,8,9,10,11,12,7,8,9,10,11,12]   #cold deck mitad baraja\n",
        "    apuesta = 10\n",
        "  b = b - apuesta    #Apuesta de ben\n",
        "  #print(b)\n",
        "  i+= 1\n",
        "  j=0 #iteracion de sacar cartas\n",
        "  m = [7,7,5]       #mano ben\n",
        "  while sumalista(m) < 21:        #Juego\n",
        "    e = r.randrange(len(b_e))\n",
        "    m.append(b_e[e])              #agrega carta a la mano \n",
        "    b_e.pop(e)                    #quita carta de la baraja\n",
        "    suma_p=sumalista(m)\n",
        "  if (sumalista(m)==21):\n",
        "    b += 2 * apuesta   #ben Gana 2000\n",
        "    c_acierto +=1\n",
        "    w.append(len(m))\n",
        "    #print(b)\n",
        "print(\"ganancia total de Ben\",b)\n",
        "print(\"ratio: \",c_acierto/n)\n",
        "print(\"aciertos\", c_acierto)\n",
        "plt.hist(w,density=True)\n",
        "plt.show()"
      ],
      "execution_count": 16,
      "outputs": [
        {
          "output_type": "stream",
          "text": [
            "ganancia total de Ben -17460\n",
            "ratio:  0.035\n",
            "aciertos 21\n"
          ],
          "name": "stdout"
        },
        {
          "output_type": "display_data",
          "data": {
            "image/png": "[encoded data removed]",
            "text/plain": [
              "<Figure size 432x288 with 1 Axes>"
            ]
          },
          "metadata": {
            "tags": [],
            "needs_background": "light"
          }
        }
      ]
    },
    {
      "cell_type": "markdown",
      "metadata": {
        "id": "6XiF6Fohr5yG",
        "colab_type": "text"
      },
      "source": [
        "#6."
      ]
    },
    {
      "cell_type": "markdown",
      "metadata": {
        "id": "VFuHdPB8ok9E",
        "colab_type": "text"
      },
      "source": [
        "Hot deck 12 cartas"
      ]
    },
    {
      "cell_type": "code",
      "metadata": {
        "id": "UNLH1S16r3CD",
        "colab_type": "code",
        "colab": {
          "base_uri": "https://localhost:8080/",
          "height": 346
        },
        "outputId": "74a20340-3ceb-476c-9128-5cc86bb9b0b8"
      },
      "source": [
        "h =[]       #cartas salidas del juego\n",
        "suma_p =0 #suma provisional cada jugada\n",
        "c_acierto=0 # contador aciertos\n",
        "w=[]\n",
        "n = 10000000   #Juegos en los que está Ben por fin de semana\n",
        "b=0       #billeteraa de ben\n",
        "i=0\n",
        "while i < n:\n",
        "  b_e = [1,2,3,1,2,3,1,2,3,1,2,3]   #hot deck 12\n",
        "  b = b - 1000    #Apuesta de ben\n",
        "  #print(b)\n",
        "  i+= 1\n",
        "  j=0 #iteracion de sacar cartas\n",
        "  m = [7,7,5]       #mano ben\n",
        "  while sumalista(m) < 21:        #Juego\n",
        "    e = r.randrange(len(b_e))\n",
        "    m.append(b_e[e])              #agrega carta a la mano \n",
        "    b_e.pop(e)                    #quita carta de la baraja\n",
        "    suma_p=sumalista(m)\n",
        "  if (sumalista(m)==21):\n",
        "    b += 2000   #ben Gana 2000\n",
        "    c_acierto +=1\n",
        "    w.append(len(m))\n",
        "    #print(b)\n",
        "print(\"promedio de lo que gana Ben en cada ronda\",b/n)\n",
        "print(\"ratio: \",c_acierto/n)\n",
        "print(\"aciertos\", c_acierto)\n",
        "plt.xlabel('Numero de cartas')\n",
        "plt.ylabel('veces')\n",
        "plt.title('Cantidad de cartas para hacer 21')\n",
        "plt.hist(w,density=True)\n",
        "plt.show()"
      ],
      "execution_count": 17,
      "outputs": [
        {
          "output_type": "stream",
          "text": [
            "promedio de lo que gana Ben en cada ronda -151.802\n",
            "ratio:  0.424099\n",
            "aciertos 4240990\n"
          ],
          "name": "stdout"
        },
        {
          "output_type": "display_data",
          "data": {
            "image/png": "[encoded data removed]",
            "text/plain": [
              "<Figure size 432x288 with 1 Axes>"
            ]
          },
          "metadata": {
            "tags": [],
            "needs_background": "light"
          }
        }
      ]
    },
    {
      "cell_type": "markdown",
      "metadata": {
        "id": "7f7gGe0ioqnH",
        "colab_type": "text"
      },
      "source": [
        "Hot deck 10 cartas"
      ]
    },
    {
      "cell_type": "code",
      "metadata": {
        "id": "AdGgiRPUTr-H",
        "colab_type": "code",
        "colab": {
          "base_uri": "https://localhost:8080/",
          "height": 346
        },
        "outputId": "e3eeceb5-639a-49f2-a0af-a8bccca0fa05"
      },
      "source": [
        "h =[]       #cartas salidas del juego\n",
        "suma_p =0 #suma provisional cada jugada\n",
        "c_acierto=0 # contador aciertos\n",
        "w=[]\n",
        "n = 10000000   #Juegos en los que está Ben por fin de semana\n",
        "b=0       #billeteraa de ben\n",
        "i=0\n",
        "k=10\n",
        "while i < n:\n",
        "  b_e = [1,2,3,1,2,3,1,2,1,2]   #hot deck 10\n",
        "  b = b - 1000    #Apuesta de ben\n",
        "  #print(b)\n",
        "  i+= 1\n",
        "  j=0 #iteracion de sacar cartas\n",
        "  m = [7,7,5]       #mano ben\n",
        "  while sumalista(m) < 21:        #Juego\n",
        "    e = r.randrange(len(b_e))\n",
        "    m.append(b_e[e])              #agrega carta a la mano \n",
        "    b_e.pop(e)                    #quita carta de la baraja\n",
        "    suma_p=sumalista(m)\n",
        "  if (sumalista(m)==21):\n",
        "    b += 2000   #ben Gana 2000\n",
        "    c_acierto +=1\n",
        "    w.append(len(m))\n",
        "    #print(b)\n",
        "print(\"promedio de lo que gana Ben en cada ronda\",b/n)\n",
        "print(\"ratio: \",c_acierto/n)\n",
        "print(\"aciertos\", c_acierto)\n",
        "plt.xlabel('Numero de cartas')\n",
        "plt.ylabel('veces')\n",
        "plt.title('Cantidad de cartas para hacer 21')\n",
        "plt.hist(w,density=True)\n",
        "plt.show()"
      ],
      "execution_count": 18,
      "outputs": [
        {
          "output_type": "stream",
          "text": [
            "promedio de lo que gana Ben en cada ronda 66.485\n",
            "ratio:  0.5332425\n",
            "aciertos 5332425\n"
          ],
          "name": "stdout"
        },
        {
          "output_type": "display_data",
          "data": {
            "image/png": "[encoded data removed]",
            "text/plain": [
              "<Figure size 432x288 with 1 Axes>"
            ]
          },
          "metadata": {
            "tags": [],
            "needs_background": "light"
          }
        }
      ]
    },
    {
      "cell_type": "markdown",
      "metadata": {
        "id": "f0FjIDPWo1Jb",
        "colab_type": "text"
      },
      "source": [
        "Hot deck 8 cartas"
      ]
    },
    {
      "cell_type": "code",
      "metadata": {
        "id": "nk5p8jUXTrt6",
        "colab_type": "code",
        "colab": {
          "base_uri": "https://localhost:8080/",
          "height": 346
        },
        "outputId": "531d690e-9ef2-4505-9aa3-31905142978a"
      },
      "source": [
        "h =[]       #cartas salidas del juego\n",
        "suma_p =0 #suma provisional cada jugada\n",
        "c_acierto=0 # contador aciertos\n",
        "w=[]\n",
        "n = 10000000   #Juegos en los que está Ben por fin de semana\n",
        "b=0       #billeteraa de ben\n",
        "i=0\n",
        "k=10\n",
        "while i < n:\n",
        "  b_e = [1,2,1,2,1,2,1,2]   #hot deck 8\n",
        "  b = b - 1000    #Apuesta de ben\n",
        "  #print(b)\n",
        "  i+= 1\n",
        "  j=0 #iteracion de sacar cartas\n",
        "  m = [7,7,5]       #mano ben\n",
        "  while sumalista(m) < 21:        #Juego\n",
        "    e = r.randrange(len(b_e))\n",
        "    m.append(b_e[e])              #agrega carta a la mano \n",
        "    b_e.pop(e)                    #quita carta de la baraja\n",
        "    suma_p=sumalista(m)\n",
        "  if (sumalista(m)==21):\n",
        "    b += 2000   #ben Gana 2000\n",
        "    c_acierto +=1\n",
        "    w.append(len(m))\n",
        "    #print(b)\n",
        "print(\"promedio de lo que gana Ben en cada ronda\",b/n)\n",
        "print(\"ratio: \",c_acierto/n)\n",
        "print(\"aciertos\", c_acierto)\n",
        "plt.xlabel('Numero de cartas')\n",
        "plt.ylabel('veces')\n",
        "plt.title('Cantidad de cartas para hacer 21')\n",
        "plt.hist(w,density=True)\n",
        "plt.show()"
      ],
      "execution_count": 19,
      "outputs": [
        {
          "output_type": "stream",
          "text": [
            "promedio de lo que gana Ben en cada ronda 428.723\n",
            "ratio:  0.7143615\n",
            "aciertos 7143615\n"
          ],
          "name": "stdout"
        },
        {
          "output_type": "display_data",
          "data": {
            "image/png": "[encoded data removed]",
            "text/plain": [
              "<Figure size 432x288 with 1 Axes>"
            ]
          },
          "metadata": {
            "tags": [],
            "needs_background": "light"
          }
        }
      ]
    }
  ]
}