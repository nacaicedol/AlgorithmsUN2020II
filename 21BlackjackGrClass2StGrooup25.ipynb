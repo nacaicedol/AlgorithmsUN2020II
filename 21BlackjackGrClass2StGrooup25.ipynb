{
  "nbformat": 4,
  "nbformat_minor": 0,
  "metadata": {
    "colab": {
      "name": "21BlackjackGrClass2StGrooup25.ipynb",
      "provenance": [],
      "collapsed_sections": [],
      "toc_visible": true
    },
    "kernelspec": {
      "name": "python3",
      "display_name": "Python 3"
    }
  },
  "cells": [
    {
      "cell_type": "code",
      "metadata": {
        "id": "ev0o1OoV7kMH",
        "colab_type": "code",
        "colab": {}
      },
      "source": [
        "import random as r\n",
        "import matplotlib.pyplot as plt\n",
        "import numpy as np"
      ],
      "execution_count": 1,
      "outputs": []
    },
    {
      "cell_type": "markdown",
      "metadata": {
        "id": "C2JJiOaIEnBg",
        "colab_type": "text"
      },
      "source": [
        "## 21 BLACKJACK\n"
      ]
    },
    {
      "cell_type": "code",
      "metadata": {
        "id": "uF9ln0VQIxdP",
        "colab_type": "code",
        "colab": {}
      },
      "source": [
        "#suma interna de la lista\n",
        "def sumalista(list):\n",
        "    laSuma = 0\n",
        "    for i in list :\n",
        "        laSuma = laSuma + i\n",
        "    return laSuma"
      ],
      "execution_count": 2,
      "outputs": []
    },
    {
      "cell_type": "markdown",
      "metadata": {
        "id": "bYTp2jYDPI6r",
        "colab_type": "text"
      },
      "source": [
        "##1."
      ]
    },
    {
      "cell_type": "markdown",
      "metadata": {
        "id": "fbDrAsiPRs7V",
        "colab_type": "text"
      },
      "source": [
        "### Baraja Española 11 12"
      ]
    },
    {
      "cell_type": "code",
      "metadata": {
        "id": "ieRTM_REE0pA",
        "colab_type": "code",
        "colab": {
          "base_uri": "https://localhost:8080/",
          "height": 329
        },
        "outputId": "dbb41dfd-2165-40d7-d82a-fb03eaa9703c"
      },
      "source": [
        "b_e = [1,2,3,4,5,6,7,8,9,10,11,12,1,2,3,4,5,6,7,8,9,10,11,12,1,2,3,4,5,6,7,8,9,10,11,12,1,2,3,4,5,6,7,8,9,10,11,12] #baraja española\n",
        "m=[]     #mano jugador\n",
        "\n",
        "c_acierto=0 # contador aciertos\n",
        "w=[]\n",
        "n = 10000000  #iteraciones\n",
        "i=0\n",
        "while i < n:\n",
        "  i+= 1\n",
        "  suma_p =0 #suma provisional cada jugada\n",
        "  m=[]\n",
        "  \n",
        "  while sumalista(m) < 21:        #Juego\n",
        "    e = r.randrange(len(b_e))\n",
        "    m.append(b_e[e])              #agrega carta a la mano \n",
        "    b_e.pop(e)                    #quita carta de la baraja\n",
        "    suma_p=sumalista(m)\n",
        "    \n",
        "  if suma_p == 21:               #Contador\\\n",
        "      c_acierto += 1\n",
        "      w.append(len(m))  \n",
        "  \n",
        "  while len(m) != 0:\n",
        "                     #devolucion de cartas\n",
        "    b_e.append(m[-1])\n",
        "    m.pop(-1)\n",
        "\n",
        "\n",
        "print(\"ratio: \",c_acierto/n)\n",
        "print(\"aciertos\", c_acierto)\n",
        "plt.xlabel('Numero de cartas')\n",
        "plt.ylabel('veces')\n",
        "plt.title('Cantidad de cartas para hacer 21')\n",
        "plt.hist(w,density=True,bins=max(w)-min(w))\n",
        "plt.show()"
      ],
      "execution_count": 3,
      "outputs": [
        {
          "output_type": "stream",
          "text": [
            "ratio:  0.1577071\n",
            "aciertos 1577071\n"
          ],
          "name": "stdout"
        },
        {
          "output_type": "display_data",
          "data": {
            "image/png": "[encoded data removed]",
            "text/plain": [
              "<Figure size 432x288 with 1 Axes>"
            ]
          },
          "metadata": {
            "tags": [],
            "needs_background": "light"
          }
        }
      ]
    },
    {
      "cell_type": "markdown",
      "metadata": {
        "id": "1KNHt2I0dy9D",
        "colab_type": "text"
      },
      "source": [
        "###Poker 11,12,13"
      ]
    },
    {
      "cell_type": "code",
      "metadata": {
        "id": "Ob0bGFX5eAmU",
        "colab_type": "code",
        "colab": {
          "base_uri": "https://localhost:8080/",
          "height": 329
        },
        "outputId": "90adcba3-5402-4bff-c7dc-f05828b90a75"
      },
      "source": [
        "b_e = [1,2,3,4,5,6,7,8,9,10,11,12,13,1,2,3,4,5,6,7,8,9,10,11,12,13,1,2,3,4,5,6,7,8,9,10,11,12,13,1,2,3,4,5,6,7,8,9,10,11,12,13] #baraja española\n",
        "m=[]     #mano jugador\n",
        "\n",
        "c_acierto=0 # contador aciertos\n",
        "w=[]\n",
        "n = 10000   #iteraciones\n",
        "i=0\n",
        "while i < n:\n",
        "  suma_p =0 #suma provisional cada jugada\n",
        "  i+= 1\n",
        "  while sumalista(m) < 21:        #Juego\n",
        "    e = r.randrange(len(b_e))\n",
        "    m.append(b_e[e])              #agrega carta a la mano \n",
        "    b_e.pop(e)                    #quita carta de la baraja\n",
        "    suma_p=sumalista(m)\n",
        "  if suma_p == 21:               #Contador\\\n",
        "      c_acierto += 1\n",
        "      w.append(len(m))\n",
        "\n",
        "  while len(m) != 0:\n",
        "                     #devolucion de cartas\n",
        "    b_e.append(m[0])\n",
        "    m.pop(0)\n",
        "\n",
        "print(\"ratio: \",c_acierto/n)\n",
        "print(\"aciertos\", c_acierto)\n",
        "plt.xlabel('Numero de cartas')\n",
        "plt.ylabel('veces')\n",
        "plt.title('Cantidad de cartas para hacer 21')\n",
        "plt.hist(w,density=True,bins=max(w)-min(w))\n",
        "plt.show()"
      ],
      "execution_count": 4,
      "outputs": [
        {
          "output_type": "stream",
          "text": [
            "ratio:  0.1455\n",
            "aciertos 1455\n"
          ],
          "name": "stdout"
        },
        {
          "output_type": "display_data",
          "data": {
            "image/png": "[encoded data removed]",
            "text/plain": [
              "<Figure size 432x288 with 1 Axes>"
            ]
          },
          "metadata": {
            "tags": [],
            "needs_background": "light"
          }
        }
      ]
    },
    {
      "cell_type": "markdown",
      "metadata": {
        "id": "eunJZNlIeTlx",
        "colab_type": "text"
      },
      "source": [
        "## 2. si las figuras valen '10'"
      ]
    },
    {
      "cell_type": "markdown",
      "metadata": {
        "id": "eOoK6IDUk_Vi",
        "colab_type": "text"
      },
      "source": [
        "### espanola"
      ]
    },
    {
      "cell_type": "code",
      "metadata": {
        "id": "QcGDm7MDl9ic",
        "colab_type": "code",
        "colab": {
          "base_uri": "https://localhost:8080/",
          "height": 329
        },
        "outputId": "96d197a8-651f-41dd-958b-19881935a019"
      },
      "source": [
        "b_e = [1,2,3,4,5,6,7,8,9,10,10,10,1,2,3,4,5,6,7,8,9,10,10,10,1,2,3,4,5,6,7,8,9,10,10,10,1,2,3,4,5,6,7,8,9,10,10,10] #baraja española\n",
        "m=[]     #mano jugador\n",
        "\n",
        "c_acierto=0 # contador aciertos\n",
        "w=[]\n",
        "n = 10000   #iteraciones\n",
        "i=0\n",
        "while i < n:\n",
        "  suma_p =0 #suma provisional cada jugada\n",
        "  i+= 1\n",
        "  while sumalista(m) < 21:        #Juego\n",
        "    e = r.randrange(len(b_e))\n",
        "    m.append(b_e[e])              #agrega carta a la mano \n",
        "    b_e.pop(e)                    #quita carta de la baraja\n",
        "    suma_p=sumalista(m)\n",
        "  if suma_p == 21:               #Contador\\\n",
        "      c_acierto += 1\n",
        "      w.append(len(m))\n",
        "  while len(m) != 0:             \n",
        "                     #devolucion de cartas\n",
        "    b_e.append(m[0])\n",
        "    m.pop(0)\n",
        "\n",
        "print(\"ratio: \",c_acierto/n)\n",
        "print(\"aciertos\", c_acierto)\n",
        "plt.xlabel('Numero de cartas')\n",
        "plt.ylabel('veces')\n",
        "plt.title('Cantidad de cartas para hacer 21')\n",
        "plt.hist(w,density=True,bins=max(w)-min(w))\n",
        "plt.show()"
      ],
      "execution_count": 5,
      "outputs": [
        {
          "output_type": "stream",
          "text": [
            "ratio:  0.1532\n",
            "aciertos 1532\n"
          ],
          "name": "stdout"
        },
        {
          "output_type": "display_data",
          "data": {
            "image/png": "[encoded data removed]",
            "text/plain": [
              "<Figure size 432x288 with 1 Axes>"
            ]
          },
          "metadata": {
            "tags": [],
            "needs_background": "light"
          }
        }
      ]
    },
    {
      "cell_type": "markdown",
      "metadata": {
        "id": "cDKAEnCclhkp",
        "colab_type": "text"
      },
      "source": [
        "### Poker"
      ]
    },
    {
      "cell_type": "code",
      "metadata": {
        "id": "GAAGdsUWllFF",
        "colab_type": "code",
        "colab": {
          "base_uri": "https://localhost:8080/",
          "height": 329
        },
        "outputId": "2b5035ef-4975-48b2-88a2-2a12f7690381"
      },
      "source": [
        "b_e = [1,2,3,4,5,6,7,8,9,10,10,10,10,1,2,3,4,5,6,7,8,9,10,10,10,10,1,2,3,4,5,6,7,8,9,10,10,10,10,1,2,3,4,5,6,7,8,9,10,10,10,10] #baraja española\n",
        "m=[]     #mano jugador\n",
        "\n",
        "c_acierto=0 # contador aciertos\n",
        "w=[]\n",
        "n = 10000   #iteraciones\n",
        "i=0\n",
        "while i < n:\n",
        "  suma_p =0 #suma provisional cada jugada\n",
        "  i+= 1\n",
        "  while sumalista(m) < 21:        #Juego\n",
        "    e = r.randrange(len(b_e))\n",
        "    m.append(b_e[e])              #agrega carta a la mano \n",
        "    b_e.pop(e)                    #quita carta de la baraja\n",
        "    suma_p=sumalista(m)\n",
        "  if suma_p == 21:               #Contador\\\n",
        "      c_acierto += 1\n",
        "      w.append(len(m))\n",
        "  while len(m) != 0:\n",
        "                     #devolucion de cartas\n",
        "    b_e.append(m[0])\n",
        "    m.pop(0)\n",
        "\n",
        "print(\"ratio: \",c_acierto/n)\n",
        "print(\"aciertos\", c_acierto)\n",
        "plt.xlabel('Numero de cartas')\n",
        "plt.ylabel('veces')\n",
        "plt.title('Cantidad de cartas para hacer 21')\n",
        "plt.hist(w,density=True,bins=max(w)-min(w))\n",
        "plt.show()"
      ],
      "execution_count": 6,
      "outputs": [
        {
          "output_type": "stream",
          "text": [
            "ratio:  0.1473\n",
            "aciertos 1473\n"
          ],
          "name": "stdout"
        },
        {
          "output_type": "display_data",
          "data": {
            "image/png": "[encoded data removed]",
            "text/plain": [
              "<Figure size 432x288 with 1 Axes>"
            ]
          },
          "metadata": {
            "tags": [],
            "needs_background": "light"
          }
        }
      ]
    },
    {
      "cell_type": "markdown",
      "metadata": {
        "id": "6lVE3UcCoV8k",
        "colab_type": "text"
      },
      "source": [
        "## 3. A medio Juego"
      ]
    },
    {
      "cell_type": "markdown",
      "metadata": {
        "id": "hArSbWEh-GIz",
        "colab_type": "text"
      },
      "source": [
        "baraja espa      10,11,12"
      ]
    },
    {
      "cell_type": "code",
      "metadata": {
        "id": "S0fGABU7fnyA",
        "colab_type": "code",
        "colab": {
          "base_uri": "https://localhost:8080/",
          "height": 329
        },
        "outputId": "fc357c31-8004-4b0e-aaa0-913392f2a36a"
      },
      "source": [
        "b_e = [1,2,3,4,5,6,7,8,9,10,11,12,1,2,3,4,5,6,7,8,9,10,11,12,1,2,3,4,5,6,7,8,9,10,11,12,1,2,3,4,5,6,7,8,9,10,11,12] #baraja española\n",
        "h =[]       #cartas salidas del juego\n",
        "\n",
        "c_acierto=0 # contador aciertos\n",
        "w=[]\n",
        "n = 10000   #iteraciones\n",
        "i=0\n",
        "k=(len(b_e)/2)\n",
        "while i < n:\n",
        "  suma_p =0 #suma provisional cada jugada\n",
        "  b_e = [1,2,3,4,6,8,9,10,11,12,1,2,3,4,5,6,8,9,10,11,12,1,2,3,4,5,6,7,8,9,10,11,12,1,2,3,4,5,6,7,8,9,10,11,12]\n",
        "  i+= 1\n",
        "  j=0 #iteracion de sacar cartas\n",
        "  m = [7,7,5]       #mano jugador\n",
        "  while j <= k:\n",
        "    j+=1                      #se desocupa medio deck\n",
        "    f = r.randrange(len(b_e))\n",
        "    h.append(b_e[f])\n",
        "    b_e.pop(f)\n",
        "  while sumalista(m) < 21:        #Juego\n",
        "    e = r.randrange(len(b_e))\n",
        "    m.append(b_e[e])              #agrega carta a la mano \n",
        "    b_e.pop(e)                    #quita carta de la baraja\n",
        "    suma_p=sumalista(m)\n",
        "  if suma_p == 21:               #Contador\\\n",
        "      c_acierto += 1\n",
        "      w.append(len(m))\n",
        "  while len(m) != 0:\n",
        "                     #devolucion de cartas\n",
        "    b_e.append(m[0])\n",
        "    m.pop(0)\n",
        "#print(w)\n",
        "print(\"ratio: \",c_acierto/n)\n",
        "print(\"aciertos\", c_acierto)\n",
        "plt.xlabel('Numero de cartas')\n",
        "plt.ylabel('veces')\n",
        "plt.title('Cantidad de cartas para hacer 21')\n",
        "plt.hist(w,density=True)\n",
        "plt.show()"
      ],
      "execution_count": 7,
      "outputs": [
        {
          "output_type": "stream",
          "text": [
            "ratio:  0.0959\n",
            "aciertos 959\n"
          ],
          "name": "stdout"
        },
        {
          "output_type": "display_data",
          "data": {
            "image/png": "[encoded data removed]",
            "text/plain": [
              "<Figure size 432x288 with 1 Axes>"
            ]
          },
          "metadata": {
            "tags": [],
            "needs_background": "light"
          }
        }
      ]
    },
    {
      "cell_type": "markdown",
      "metadata": {
        "id": "vvROI1U3-OjA",
        "colab_type": "text"
      },
      "source": [
        "Poker 10,11,12,13"
      ]
    },
    {
      "cell_type": "code",
      "metadata": {
        "id": "H3bYyrzulds9",
        "colab_type": "code",
        "colab": {
          "base_uri": "https://localhost:8080/",
          "height": 329
        },
        "outputId": "a4c41d8c-af77-4e71-c774-983d423c7755"
      },
      "source": [
        "b_e = [1,2,3,4,5,6,7,8,9,10,11,12,13,1,2,3,4,5,6,7,8,9,10,11,12,13,1,2,3,4,5,6,7,8,9,10,11,12,13,1,2,3,4,5,6,7,8,9,10,11,12,13] #baraja española\n",
        "h =[]       #cartas salidas del juego\n",
        "\n",
        "c_acierto=0 # contador aciertos\n",
        "w=[]\n",
        "n = 10000   #iteraciones\n",
        "i=0\n",
        "k=(len(b_e)/2)\n",
        "while i < n:\n",
        "  suma_p =0 #suma provisional cada jugada\n",
        "  b_e = [1,2,3,4,6,8,9,10,11,12,13,1,2,3,4,5,6,8,9,10,11,12,13,1,2,3,4,5,6,7,8,9,10,11,12,13,1,2,3,4,5,6,7,8,9,10,11,12,13]\n",
        "  i+= 1\n",
        "  j=0 #iteracion de sacar cartas\n",
        "  m = [7,7,5]       #mano jugador\n",
        "  while j <= k:\n",
        "    j+=1                      #se desocupa medio deck\n",
        "    f = r.randrange(len(b_e))\n",
        "    h.append(b_e[f])\n",
        "    b_e.pop(f)\n",
        "  while sumalista(m) < 21:        #Juego\n",
        "    e = r.randrange(len(b_e))\n",
        "    m.append(b_e[e])              #agrega carta a la mano \n",
        "    b_e.pop(e)                    #quita carta de la baraja\n",
        "    suma_p=sumalista(m)\n",
        "  if suma_p == 21:               #Contador\\\n",
        "      c_acierto += 1\n",
        "      w.append(len(m))\n",
        "  while len(m) != 0:\n",
        "                     #devolucion de cartas\n",
        "    b_e.append(m[0])\n",
        "    m.pop(0)\n",
        "#print(w)\n",
        "print(\"ratio: \",c_acierto/n)\n",
        "print(\"aciertos\", c_acierto)\n",
        "plt.xlabel('Numero de cartas')\n",
        "plt.ylabel('veces')\n",
        "plt.title('Cantidad de cartas para hacer 21')\n",
        "plt.hist(w,density=True)\n",
        "plt.show()"
      ],
      "execution_count": 8,
      "outputs": [
        {
          "output_type": "stream",
          "text": [
            "ratio:  0.0836\n",
            "aciertos 836\n"
          ],
          "name": "stdout"
        },
        {
          "output_type": "display_data",
          "data": {
            "image/png": "[encoded data removed]",
            "text/plain": [
              "<Figure size 432x288 with 1 Axes>"
            ]
          },
          "metadata": {
            "tags": [],
            "needs_background": "light"
          }
        }
      ]
    },
    {
      "cell_type": "markdown",
      "metadata": {
        "id": "k1hJDheq9aur",
        "colab_type": "text"
      },
      "source": [
        "Poker 4-10"
      ]
    },
    {
      "cell_type": "code",
      "metadata": {
        "id": "ZXJw-cTZlWrX",
        "colab_type": "code",
        "colab": {
          "base_uri": "https://localhost:8080/",
          "height": 329
        },
        "outputId": "b58ebc26-b836-43f0-d15e-20f106a2df49"
      },
      "source": [
        "b_e = [1,2,3,4,5,6,7,8,9,10,10,10,10,1,2,3,4,5,6,7,8,9,10,10,10,10,1,2,3,4,5,6,7,8,9,10,10,10,10,1,2,3,4,5,6,7,8,9,10,10,10,10] #baraja española\n",
        "h =[]       #cartas salidas del juego\n",
        "\n",
        "c_acierto=0 # contador aciertos\n",
        "w=[]\n",
        "n = 10000   #iteraciones\n",
        "i=0\n",
        "k=(len(b_e)/2)\n",
        "while i < n:\n",
        "  suma_p =0 #suma provisional cada jugada\n",
        "  b_e = [1,2,3,4,6,8,9,10,10,10,10,1,2,3,4,5,6,8,9,10,10,10,10,1,2,3,4,5,6,7,8,9,10,10,10,10,1,2,3,4,5,6,7,8,9,10,10,10,10]\n",
        "  i+= 1\n",
        "  j=0 #iteracion de sacar cartas\n",
        "  m = [7,7,5]       #mano jugador\n",
        "  while j <= k:\n",
        "    j+=1                      #se desocupa medio deck\n",
        "    f = r.randrange(len(b_e))\n",
        "    h.append(b_e[f])\n",
        "    b_e.pop(f)\n",
        "  while sumalista(m) < 21:        #Juego\n",
        "    e = r.randrange(len(b_e))\n",
        "    m.append(b_e[e])              #agrega carta a la mano \n",
        "    b_e.pop(e)                    #quita carta de la baraja\n",
        "    suma_p=sumalista(m)\n",
        "  if suma_p == 21:               #Contador\\\n",
        "      c_acierto += 1\n",
        "      w.append(len(m))\n",
        "  while len(m) != 0:\n",
        "                     #devolucion de cartas\n",
        "    b_e.append(m[0])\n",
        "    m.pop(0)\n",
        "#print(w)\n",
        "print(\"ratio: \",c_acierto/n)\n",
        "print(\"aciertos\", c_acierto)\n",
        "plt.xlabel('Numero de cartas')\n",
        "plt.ylabel('veces')\n",
        "plt.title('Cantidad de cartas para hacer 21')\n",
        "plt.hist(w,density=True)\n",
        "plt.show()"
      ],
      "execution_count": 9,
      "outputs": [
        {
          "output_type": "stream",
          "text": [
            "ratio:  0.0801\n",
            "aciertos 801\n"
          ],
          "name": "stdout"
        },
        {
          "output_type": "display_data",
          "data": {
            "image/png": "[encoded data removed]",
            "text/plain": [
              "<Figure size 432x288 with 1 Axes>"
            ]
          },
          "metadata": {
            "tags": [],
            "needs_background": "light"
          }
        }
      ]
    },
    {
      "cell_type": "markdown",
      "metadata": {
        "id": "wwzqWyQz_Hmz",
        "colab_type": "text"
      },
      "source": [
        "espanola 3-10"
      ]
    },
    {
      "cell_type": "code",
      "metadata": {
        "id": "21VHk-bXmF2Y",
        "colab_type": "code",
        "colab": {
          "base_uri": "https://localhost:8080/",
          "height": 329
        },
        "outputId": "2582703d-3c09-44d1-ee4f-20ec2c8c0160"
      },
      "source": [
        "b_e = [1,2,3,4,5,6,7,8,9,10,10,10,1,2,3,4,5,6,7,8,9,10,10,10,1,2,3,4,5,6,7,8,9,10,10,10,1,2,3,4,5,6,7,8,9,10,10,10] #baraja española\n",
        "h =[]       #cartas salidas del juego\n",
        "\n",
        "c_acierto=0 # contador aciertos\n",
        "w=[]\n",
        "n = 10000   #iteraciones\n",
        "i=0\n",
        "k=(len(b_e)/2)\n",
        "while i < n:\n",
        "  suma_p =0 #suma provisional cada jugada\n",
        "  b_e = [1,2,3,4,6,8,9,10,10,10,1,2,3,4,5,6,8,9,10,10,10,1,2,3,4,5,6,7,8,9,10,10,10,1,2,3,4,5,6,7,8,9,10,10,10]\n",
        "  i+= 1\n",
        "  j=0 #iteracion de sacar cartas\n",
        "  m = [7,7,5]       #mano jugador\n",
        "  while j <= k:\n",
        "    j+=1                      #se desocupa medio deck\n",
        "    f = r.randrange(len(b_e))\n",
        "    h.append(b_e[f])\n",
        "    b_e.pop(f)\n",
        "  while sumalista(m) < 21:        #Juego\n",
        "    e = r.randrange(len(b_e))\n",
        "    m.append(b_e[e])              #agrega carta a la mano \n",
        "    b_e.pop(e)                    #quita carta de la baraja\n",
        "    suma_p=sumalista(m)\n",
        "  if suma_p == 21:               #Contador\\\n",
        "      c_acierto += 1\n",
        "      w.append(len(m))\n",
        "  while len(m) != 0:\n",
        "                     #devolucion de cartas\n",
        "    b_e.append(m[0])\n",
        "    m.pop(0)\n",
        "#print(w)\n",
        "print(\"ratio: \",c_acierto/n)\n",
        "print(\"aciertos\", c_acierto)\n",
        "plt.xlabel('Numero de cartas')\n",
        "plt.ylabel('veces')\n",
        "plt.title('Cantidad de cartas para hacer 21')\n",
        "plt.hist(w,density=True)\n",
        "plt.show()"
      ],
      "execution_count": 10,
      "outputs": [
        {
          "output_type": "stream",
          "text": [
            "ratio:  0.0923\n",
            "aciertos 923\n"
          ],
          "name": "stdout"
        },
        {
          "output_type": "display_data",
          "data": {
            "image/png": "[encoded data removed]",
            "text/plain": [
              "<Figure size 432x288 with 1 Axes>"
            ]
          },
          "metadata": {
            "tags": [],
            "needs_background": "light"
          }
        }
      ]
    },
    {
      "cell_type": "markdown",
      "metadata": {
        "id": "ESsmjZMeDIc8",
        "colab_type": "text"
      },
      "source": [
        "## 4. 10 cartas faltantes"
      ]
    },
    {
      "cell_type": "markdown",
      "metadata": {
        "id": "fw6n6i2_sFgU",
        "colab_type": "text"
      },
      "source": [
        "###cold deck"
      ]
    },
    {
      "cell_type": "markdown",
      "metadata": {
        "colab_type": "text",
        "id": "iZ-mEtUsDh1n"
      },
      "source": [
        "Espanola  10,11,12"
      ]
    },
    {
      "cell_type": "code",
      "metadata": {
        "id": "JQIgJBvsmjZg",
        "colab_type": "code",
        "colab": {
          "base_uri": "https://localhost:8080/",
          "height": 335
        },
        "outputId": "efbd2062-333c-4964-aa38-1093ce1f551b"
      },
      "source": [
        "b_e = [1,2,3,4,5,6,7,8,9,10,11,12,1,2,3,4,5,6,7,8,9,10,11,12,1,2,3,4,5,6,7,8,9,10,11,12,1,2,3,4,5,6,7,8,9,10,11,12] #baraja española\n",
        "h =[]       #cartas salidas del juego\n",
        "\n",
        "c_acierto=0 # contador aciertos\n",
        "w=[]\n",
        "n = 10000   #iteraciones\n",
        "i=0\n",
        "k=10\n",
        "while i < n:\n",
        "  suma_p =0 #suma provisional cada jugada\n",
        "  b_e = [1,2,3,4,6,8,9,10,11,12,1,2,3,4,5,6,8,9,10,11,12,1,2,3,4,5,6,7,8,9,10,11,12,1,2,3,4,5,6,7,8,9,10,11,12]\n",
        "  i+= 1\n",
        "  j=0 #iteracion de sacar cartas\n",
        "  m = [7,7,5]       #mano jugador\n",
        "  while j <= k:\n",
        "    j+=1                      #se desocupa medio deck\n",
        "    f = r.randrange(len(b_e))\n",
        "    h.append(b_e[f])\n",
        "    b_e.pop(f)\n",
        "  while sumalista(m) < 21:        #Juego\n",
        "    e = r.randrange(len(b_e))\n",
        "    m.append(b_e[e])              #agrega carta a la mano \n",
        "    b_e.pop(e)                    #quita carta de la baraja\n",
        "    suma_p=sumalista(m)\n",
        "  if suma_p == 21:               #Contador\\\n",
        "      c_acierto += 1\n",
        "      w.append(len(m))\n",
        "  while len(m) != 0:\n",
        "                     #devolucion de cartas\n",
        "    b_e.append(m[0])\n",
        "    m.pop(0)\n",
        "print(w)\n",
        "print(\"ratio: \",c_acierto/n)\n",
        "print(\"aciertos\", c_acierto)\n",
        "plt.hist(w,density=True)\n",
        "plt.show()"
      ],
      "execution_count": 11,
      "outputs": [
        {
          "output_type": "stream",
          "text": [
            "[4, 5, 4, 4, 4, 4, 4, 4, 4, 4, 5, 4, 4, 4, 4, 4, 4, 4, 4, 4, 4, 4, 4, 5, 4, 4, 4, 5, 4, 4, 4, 4, 4, 4, 4, 4, 4, 4, 4, 4, 4, 4, 4, 4, 4, 4, 4, 4, 4, 4, 4, 4, 4, 4, 4, 4, 4, 4, 4, 5, 4, 4, 4, 4, 4, 4, 4, 4, 4, 4, 5, 4, 4, 4, 4, 4, 4, 4, 4, 4, 4, 4, 4, 4, 4, 4, 4, 4, 4, 4, 4, 4, 4, 4, 4, 4, 4, 4, 4, 4, 4, 4, 4, 4, 4, 4, 5, 4, 4, 4, 4, 4, 4, 4, 4, 4, 5, 4, 4, 4, 4, 4, 4, 4, 4, 4, 4, 4, 4, 4, 4, 4, 4, 4, 4, 4, 4, 5, 4, 4, 4, 4, 4, 4, 4, 4, 4, 4, 4, 4, 4, 4, 4, 4, 4, 4, 4, 4, 4, 4, 4, 4, 4, 4, 4, 4, 4, 4, 4, 4, 4, 4, 4, 5, 4, 4, 4, 4, 4, 4, 4, 4, 4, 4, 4, 5, 4, 4, 4, 4, 4, 5, 4, 4, 4, 4, 4, 4, 4, 4, 4, 4, 4, 4, 4, 4, 4, 4, 4, 4, 5, 4, 4, 5, 4, 5, 4, 4, 4, 5, 4, 4, 5, 4, 4, 4, 4, 4, 4, 4, 4, 4, 4, 4, 5, 4, 4, 4, 4, 4, 4, 4, 4, 4, 4, 4, 4, 5, 4, 4, 4, 4, 4, 4, 4, 4, 4, 4, 4, 4, 4, 4, 4, 4, 4, 4, 4, 4, 4, 4, 4, 4, 4, 4, 4, 4, 4, 4, 4, 4, 4, 4, 4, 4, 4, 4, 4, 4, 4, 4, 4, 4, 4, 4, 4, 4, 4, 4, 4, 4, 4, 4, 4, 4, 4, 4, 4, 4, 4, 4, 4, 4, 4, 5, 4, 4, 4, 4, 4, 4, 4, 4, 4, 4, 4, 4, 4, 4, 4, 5, 4, 4, 5, 4, 4, 4, 4, 4, 4, 4, 4, 4, 4, 4, 4, 4, 4, 4, 4, 4, 4, 4, 4, 4, 4, 4, 4, 5, 4, 4, 4, 4, 4, 4, 4, 4, 4, 4, 4, 4, 4, 5, 4, 4, 4, 4, 4, 5, 4, 5, 4, 4, 4, 4, 5, 4, 4, 4, 5, 4, 4, 4, 4, 4, 4, 4, 4, 4, 4, 4, 4, 4, 4, 4, 4, 4, 4, 4, 4, 4, 4, 4, 4, 4, 4, 4, 5, 4, 4, 4, 4, 4, 4, 4, 4, 4, 4, 4, 4, 4, 4, 4, 4, 4, 4, 4, 4, 4, 5, 4, 4, 5, 4, 4, 4, 4, 4, 4, 4, 4, 4, 4, 4, 4, 4, 4, 4, 4, 4, 4, 4, 4, 4, 5, 5, 4, 4, 4, 4, 4, 4, 4, 4, 4, 4, 4, 4, 4, 4, 4, 4, 4, 4, 4, 4, 4, 4, 4, 4, 4, 4, 4, 4, 4, 4, 4, 4, 4, 4, 4, 4, 4, 4, 5, 4, 4, 4, 4, 4, 4, 4, 4, 4, 4, 4, 4, 5, 5, 4, 4, 4, 4, 4, 4, 4, 4, 4, 4, 4, 4, 4, 4, 4, 4, 4, 4, 4, 4, 4, 4, 4, 4, 4, 4, 4, 4, 4, 4, 4, 4, 4, 4, 4, 4, 4, 4, 4, 4, 5, 5, 4, 4, 4, 4, 4, 4, 4, 4, 4, 4, 4, 4, 4, 4, 4, 4, 4, 4, 4, 4, 4, 4, 4, 5, 4, 4, 4, 4, 4, 4, 4, 4, 4, 4, 4, 4, 4, 4, 4, 4, 5, 4, 4, 4, 4, 5, 4, 5, 4, 4, 4, 4, 5, 4, 4, 4, 4, 4, 4, 4, 4, 4, 4, 4, 4, 4, 4, 4, 4, 4, 4, 4, 4, 4, 4, 4, 4, 4, 4, 5, 4, 4, 4, 4, 4, 5, 4, 4, 4, 4, 4, 4, 4, 4, 4, 5, 5, 4, 5, 4, 5, 4, 4, 4, 5, 4, 4, 4, 4, 4, 4, 4, 4, 4, 5, 4, 4, 4, 4, 4, 4, 4, 4, 4, 4, 4, 4, 4, 4, 4, 4, 4, 4, 4, 4, 4, 4, 4, 4, 4, 4, 4, 5, 5, 4, 4, 4, 4, 4, 4, 4, 4, 4, 4, 4, 4, 4, 4, 4, 4, 4, 4, 4, 4, 4, 4, 4, 4, 5, 4, 4, 4, 4, 4, 4, 4, 4, 4, 4, 4, 4, 4, 4, 4, 4, 4, 4, 4, 4, 5, 4, 4, 4, 4, 4, 4, 4, 4, 4, 4, 4, 4, 4, 4, 4, 4, 4, 4, 4, 4, 4, 5, 4, 4, 4, 4, 4, 4, 4, 4, 4, 4, 4, 4, 4, 4, 4, 4, 4, 4, 4, 4, 4, 4, 4, 4, 4, 4, 4, 4, 4, 4, 4, 4, 4, 4, 4, 4, 4, 5, 4, 4, 4, 4, 4, 4, 4, 4, 4, 5, 4, 4, 4, 4, 4, 4, 4, 4, 4, 5, 4, 4, 4, 4, 4, 4, 4, 4, 4, 4, 4, 4, 5, 4, 4, 4, 4, 5, 4, 4, 4, 4, 4, 4, 4, 4, 4, 4, 4, 4, 4, 4, 5, 4, 4, 5, 4, 4, 4, 4, 4, 4, 4, 4, 4, 4, 4, 4, 4, 4, 4, 4, 4, 4, 4, 5, 4, 4, 4, 4, 4, 4, 4, 4, 4, 4, 4, 4, 5, 4, 4, 4, 4, 4]\n",
            "ratio:  0.0904\n",
            "aciertos 904\n"
          ],
          "name": "stdout"
        },
        {
          "output_type": "display_data",
          "data": {
            "image/png": "[encoded data removed]",
            "text/plain": [
              "<Figure size 432x288 with 1 Axes>"
            ]
          },
          "metadata": {
            "tags": [],
            "needs_background": "light"
          }
        }
      ]
    },
    {
      "cell_type": "markdown",
      "metadata": {
        "colab_type": "text",
        "id": "nhFWh7kyDh1t"
      },
      "source": [
        "Poker 10,11,12,13"
      ]
    },
    {
      "cell_type": "code",
      "metadata": {
        "id": "cmB38wImqlt_",
        "colab_type": "code",
        "colab": {
          "base_uri": "https://localhost:8080/",
          "height": 335
        },
        "outputId": "69248ad4-ae58-470f-b57a-0f2165772837"
      },
      "source": [
        "b_e = [1,2,3,4,5,6,7,8,9,10,11,12,13,1,2,3,4,5,6,7,8,9,10,11,12,13,1,2,3,4,5,6,7,8,9,10,11,12,13,1,2,3,4,5,6,7,8,9,10,11,12,13] #baraja española\n",
        "h =[]       #cartas salidas del juego\n",
        "\n",
        "c_acierto=0 # contador aciertos\n",
        "w=[]\n",
        "n = 10000   #iteraciones\n",
        "i=0\n",
        "k=10\n",
        "while i < n:\n",
        "  suma_p =0 #suma provisional cada jugada\n",
        "  b_e = [1,2,3,4,6,8,9,10,11,12,13,1,2,3,4,5,6,8,9,10,11,12,13,1,2,3,4,5,6,7,8,9,10,11,12,13,1,2,3,4,5,6,7,8,9,10,11,12,13]\n",
        "  i+= 1\n",
        "  j=0 #iteracion de sacar cartas\n",
        "  m = [7,7,5]       #mano jugador\n",
        "  while j <= k:\n",
        "    j+=1                      #se desocupa medio deck\n",
        "    f = r.randrange(len(b_e))\n",
        "    h.append(b_e[f])\n",
        "    b_e.pop(f)\n",
        "  while sumalista(m) < 21:        #Juego\n",
        "    e = r.randrange(len(b_e))\n",
        "    m.append(b_e[e])              #agrega carta a la mano \n",
        "    b_e.pop(e)                    #quita carta de la baraja\n",
        "    suma_p=sumalista(m)\n",
        "  if suma_p == 21:               #Contador\\\n",
        "      c_acierto += 1\n",
        "      w.append(len(m))\n",
        "  while len(m) != 0:\n",
        "                     #devolucion de cartas\n",
        "    b_e.append(m[0])\n",
        "    m.pop(0)\n",
        "print(w)\n",
        "print(\"ratio: \",c_acierto/n)\n",
        "print(\"aciertos\", c_acierto)\n",
        "plt.hist(w,density=True)\n",
        "plt.show()"
      ],
      "execution_count": 12,
      "outputs": [
        {
          "output_type": "stream",
          "text": [
            "[4, 4, 4, 4, 4, 4, 4, 4, 4, 4, 4, 4, 4, 4, 4, 4, 4, 4, 5, 4, 4, 4, 4, 4, 4, 4, 4, 4, 4, 4, 5, 4, 4, 4, 4, 4, 4, 4, 4, 4, 4, 4, 4, 4, 4, 4, 4, 4, 4, 4, 4, 4, 4, 4, 4, 4, 4, 4, 4, 4, 4, 4, 4, 4, 4, 4, 5, 4, 4, 4, 4, 4, 4, 4, 4, 4, 4, 4, 4, 4, 4, 4, 4, 4, 4, 4, 4, 4, 4, 4, 4, 4, 4, 4, 4, 4, 4, 4, 4, 4, 4, 4, 4, 4, 4, 4, 5, 5, 4, 4, 4, 4, 5, 4, 4, 5, 4, 4, 4, 4, 4, 4, 4, 4, 4, 4, 4, 4, 4, 4, 4, 5, 4, 4, 4, 4, 4, 4, 4, 4, 4, 4, 4, 4, 4, 4, 4, 4, 4, 4, 4, 4, 4, 5, 4, 4, 4, 5, 4, 4, 4, 4, 4, 4, 5, 4, 4, 4, 4, 4, 4, 4, 4, 4, 4, 4, 4, 5, 4, 4, 4, 5, 4, 5, 4, 4, 4, 4, 5, 4, 4, 4, 5, 4, 4, 4, 4, 4, 4, 4, 4, 4, 5, 4, 4, 4, 4, 4, 4, 4, 4, 4, 4, 4, 4, 4, 4, 4, 4, 4, 4, 5, 4, 4, 4, 4, 4, 4, 4, 4, 4, 5, 4, 4, 4, 4, 4, 4, 4, 4, 4, 4, 4, 4, 4, 4, 4, 4, 4, 4, 4, 4, 4, 4, 4, 4, 4, 4, 4, 5, 4, 4, 4, 4, 4, 4, 4, 4, 4, 4, 4, 4, 4, 4, 4, 4, 5, 4, 4, 4, 4, 4, 4, 4, 4, 4, 4, 4, 4, 4, 4, 4, 4, 4, 4, 4, 4, 4, 4, 4, 4, 4, 4, 4, 4, 4, 4, 4, 4, 4, 4, 4, 4, 4, 4, 4, 4, 4, 4, 4, 4, 4, 4, 4, 4, 4, 4, 4, 4, 4, 4, 4, 4, 4, 4, 4, 4, 4, 4, 4, 4, 4, 4, 4, 4, 4, 4, 4, 4, 4, 4, 4, 4, 4, 4, 4, 4, 4, 4, 4, 4, 4, 4, 4, 4, 4, 4, 4, 4, 4, 4, 4, 4, 4, 4, 4, 4, 5, 4, 5, 4, 4, 4, 4, 4, 4, 4, 4, 4, 4, 4, 4, 4, 4, 4, 4, 4, 4, 4, 4, 4, 4, 4, 5, 4, 4, 4, 4, 4, 4, 4, 4, 4, 4, 4, 4, 4, 4, 4, 4, 4, 4, 4, 4, 4, 4, 4, 4, 4, 4, 4, 4, 4, 4, 4, 4, 5, 4, 4, 4, 4, 4, 4, 4, 4, 4, 4, 5, 4, 5, 4, 4, 4, 4, 4, 4, 5, 4, 4, 4, 4, 4, 4, 5, 4, 4, 4, 4, 4, 4, 4, 4, 4, 4, 4, 4, 4, 4, 4, 4, 4, 4, 4, 5, 4, 4, 4, 5, 4, 4, 4, 4, 4, 4, 4, 4, 5, 4, 4, 4, 4, 4, 5, 4, 4, 4, 4, 5, 4, 4, 4, 4, 4, 4, 4, 4, 4, 4, 4, 4, 4, 4, 4, 4, 4, 4, 4, 4, 4, 4, 4, 4, 4, 4, 4, 4, 4, 4, 4, 4, 4, 4, 4, 4, 4, 4, 4, 4, 4, 4, 5, 4, 4, 4, 4, 4, 4, 4, 4, 4, 4, 4, 4, 4, 4, 4, 4, 5, 4, 4, 4, 4, 4, 4, 4, 4, 4, 4, 4, 4, 4, 4, 4, 4, 4, 4, 4, 4, 4, 4, 4, 4, 4, 4, 4, 4, 4, 4, 4, 4, 4, 4, 4, 4, 4, 4, 4, 4, 4, 4, 4, 4, 4, 4, 4, 4, 4, 4, 4, 4, 4, 4, 4, 4, 4, 4, 4, 4, 4, 4, 4, 4, 4, 4, 5, 4, 4, 4, 4, 4, 4, 4, 4, 4, 4, 4, 4, 4, 4, 4, 4, 4, 4, 4, 4, 4, 4, 4, 4, 4, 5, 4, 4, 4, 4, 4, 4, 4, 4, 4, 4, 4, 4, 4, 4, 4, 4, 4, 4, 4, 4, 4, 4, 4, 4, 4, 4, 4, 4, 4, 4, 4, 4, 4, 4, 4, 5, 4, 5, 4, 4, 4, 4, 4, 4, 4, 4, 4, 4, 4, 4, 4, 4, 4, 4, 4, 4, 4, 4, 4, 4, 4, 4, 4, 4, 4, 4, 4, 4, 4, 4, 4, 4, 4, 4, 4, 4, 4, 5, 4, 4, 4, 4, 4, 4, 4, 4, 4, 4, 4, 4, 4, 4, 4, 4, 4, 4, 4, 4, 4, 4, 4, 4, 4, 4, 4, 4, 4, 4, 4, 4, 4, 4, 4, 4, 4, 4, 4, 4, 4, 4, 4, 4, 5, 4, 4, 4, 4, 4, 4, 4, 4, 4, 5, 4, 4, 4, 4, 4, 4, 4, 4, 4, 5, 4, 4, 4, 4, 4, 4, 4, 4, 4, 4, 4, 4, 4, 4, 4, 4, 4, 4, 4, 4, 4, 4, 4, 4, 4, 4, 4, 4, 5, 4, 4, 4, 4, 4, 5, 4, 4, 4, 4, 4, 4, 4, 4, 4, 4, 4, 4, 4, 4, 4, 4, 4, 4, 4, 4, 4, 4, 4, 4, 4, 4, 4, 4, 4, 5, 4, 4, 4, 4]\n",
            "ratio:  0.0873\n",
            "aciertos 873\n"
          ],
          "name": "stdout"
        },
        {
          "output_type": "display_data",
          "data": {
            "image/png": "[encoded data removed]",
            "text/plain": [
              "<Figure size 432x288 with 1 Axes>"
            ]
          },
          "metadata": {
            "tags": [],
            "needs_background": "light"
          }
        }
      ]
    },
    {
      "cell_type": "markdown",
      "metadata": {
        "colab_type": "text",
        "id": "eT-TbU1bDh1w"
      },
      "source": [
        "Poker 4-10"
      ]
    },
    {
      "cell_type": "code",
      "metadata": {
        "id": "ZzJIhVZRqqYm",
        "colab_type": "code",
        "colab": {
          "base_uri": "https://localhost:8080/",
          "height": 335
        },
        "outputId": "0ea4c13c-444b-483b-fb85-21a9b30cba6a"
      },
      "source": [
        "b_e = [1,2,3,4,5,6,7,8,9,10,10,10,10,1,2,3,4,5,6,7,8,9,10,10,10,10,1,2,3,4,5,6,7,8,9,10,10,10,10,1,2,3,4,5,6,7,8,9,10,10,10,10] #baraja española\n",
        "h =[]       #cartas salidas del juego\n",
        "\n",
        "c_acierto=0 # contador aciertos\n",
        "w=[]\n",
        "n = 10000   #iteraciones\n",
        "i=0\n",
        "k=10\n",
        "while i < n:\n",
        "  suma_p =0 #suma provisional cada jugada\n",
        "  b_e = [1,2,3,4,6,8,9,10,10,10,10,1,2,3,4,5,6,8,9,10,10,10,10,1,2,3,4,5,6,7,8,9,10,10,10,10,1,2,3,4,5,6,7,8,9,10,10,10,10]\n",
        "  i+= 1\n",
        "  j=0 #iteracion de sacar cartas\n",
        "  m = [7,7,5]       #mano jugador\n",
        "  while j <= k:\n",
        "    j+=1                      #se desocupa medio deck\n",
        "    f = r.randrange(len(b_e))\n",
        "    h.append(b_e[f])\n",
        "    b_e.pop(f)\n",
        "  while sumalista(m) < 21:        #Juego\n",
        "    e = r.randrange(len(b_e))\n",
        "    m.append(b_e[e])              #agrega carta a la mano \n",
        "    b_e.pop(e)                    #quita carta de la baraja\n",
        "    suma_p=sumalista(m)\n",
        "  if suma_p == 21:               #Contador\\\n",
        "      c_acierto += 1\n",
        "      w.append(len(m))\n",
        "  while len(m) != 0:\n",
        "                     #devolucion de cartas\n",
        "    b_e.append(m[0])\n",
        "    m.pop(0)\n",
        "print(w)\n",
        "print(\"ratio: \",c_acierto/n)\n",
        "print(\"aciertos\", c_acierto)\n",
        "plt.hist(w,density=True)\n",
        "plt.show()"
      ],
      "execution_count": 13,
      "outputs": [
        {
          "output_type": "stream",
          "text": [
            "[4, 4, 4, 4, 4, 4, 4, 4, 4, 4, 4, 4, 4, 4, 4, 4, 4, 4, 4, 4, 4, 4, 4, 4, 4, 4, 4, 4, 4, 4, 4, 4, 4, 4, 4, 4, 4, 4, 4, 4, 4, 4, 4, 4, 4, 4, 4, 4, 5, 4, 4, 4, 4, 4, 4, 4, 4, 4, 4, 4, 4, 5, 4, 4, 4, 4, 4, 4, 5, 4, 4, 4, 5, 4, 5, 4, 4, 4, 4, 4, 4, 4, 4, 4, 4, 4, 4, 4, 4, 4, 4, 4, 4, 4, 4, 4, 4, 4, 4, 4, 4, 4, 4, 4, 4, 5, 4, 4, 4, 4, 4, 4, 4, 4, 4, 4, 4, 4, 4, 4, 4, 4, 4, 4, 4, 4, 4, 4, 4, 4, 4, 4, 5, 4, 4, 4, 4, 4, 4, 4, 4, 4, 4, 4, 4, 4, 4, 4, 4, 4, 4, 4, 4, 4, 4, 4, 4, 4, 4, 4, 4, 4, 4, 4, 4, 4, 4, 4, 4, 4, 4, 4, 4, 4, 4, 4, 4, 4, 4, 4, 4, 4, 4, 4, 4, 4, 4, 4, 4, 4, 4, 4, 4, 4, 5, 4, 4, 4, 4, 5, 4, 4, 4, 4, 4, 4, 4, 4, 4, 4, 4, 4, 4, 4, 4, 4, 4, 4, 4, 4, 4, 4, 4, 4, 4, 4, 4, 4, 4, 4, 4, 4, 4, 4, 5, 4, 4, 4, 4, 4, 4, 4, 4, 4, 5, 4, 4, 4, 4, 4, 4, 4, 4, 4, 4, 4, 4, 4, 4, 4, 4, 4, 4, 4, 4, 4, 4, 4, 4, 4, 4, 4, 4, 5, 4, 4, 4, 4, 4, 4, 4, 4, 4, 4, 4, 5, 4, 4, 4, 4, 4, 4, 4, 4, 4, 4, 4, 4, 4, 4, 4, 4, 4, 4, 4, 4, 4, 4, 4, 4, 4, 4, 4, 5, 4, 4, 4, 4, 4, 4, 4, 4, 4, 4, 4, 4, 4, 4, 4, 4, 4, 4, 5, 4, 4, 4, 4, 4, 4, 4, 4, 4, 4, 4, 4, 4, 4, 4, 4, 4, 4, 4, 4, 4, 4, 5, 4, 4, 4, 4, 4, 4, 4, 4, 4, 4, 4, 4, 4, 4, 5, 4, 4, 4, 4, 4, 4, 4, 4, 4, 4, 4, 4, 4, 4, 4, 4, 4, 5, 5, 4, 4, 4, 4, 4, 4, 4, 4, 4, 4, 4, 4, 4, 4, 4, 4, 4, 4, 4, 4, 5, 4, 4, 4, 4, 4, 4, 4, 4, 4, 4, 4, 4, 4, 4, 4, 4, 4, 4, 4, 4, 4, 4, 4, 4, 4, 4, 4, 4, 4, 4, 4, 4, 5, 4, 4, 4, 4, 4, 4, 4, 4, 4, 4, 4, 4, 4, 4, 4, 4, 4, 4, 4, 4, 4, 4, 4, 4, 4, 4, 4, 4, 4, 5, 4, 4, 4, 5, 4, 4, 4, 4, 4, 5, 4, 4, 4, 4, 4, 4, 4, 4, 4, 4, 4, 4, 4, 4, 4, 4, 4, 4, 4, 4, 4, 5, 4, 4, 4, 4, 4, 4, 4, 4, 4, 4, 4, 4, 4, 4, 4, 4, 4, 4, 4, 4, 4, 4, 4, 4, 4, 4, 4, 4, 4, 4, 4, 4, 5, 4, 4, 4, 4, 4, 4, 4, 4, 4, 4, 4, 4, 4, 5, 4, 5, 4, 4, 4, 4, 4, 4, 4, 4, 4, 4, 5, 4, 4, 4, 4, 4, 4, 4, 4, 4, 4, 4, 4, 4, 4, 4, 4, 4, 4, 5, 4, 4, 4, 4, 4, 4, 4, 4, 4, 4, 4, 4, 4, 4, 4, 5, 4, 4, 4, 4, 4, 5, 4, 4, 4, 4, 4, 4, 4, 4, 4, 4, 4, 4, 4, 4, 4, 4, 4, 4, 5, 4, 5, 4, 5, 4, 4, 4, 4, 4, 4, 4, 4, 4, 4, 4, 4, 4, 4, 4, 4, 4, 4, 4, 4, 5, 4, 4, 4, 4, 4, 4, 4, 4, 5, 4, 4, 4, 4, 4, 4, 4, 4, 4, 4, 4, 4, 4, 4, 4, 4, 4, 4, 4, 4, 5, 4, 4, 4, 4, 4, 4, 4, 4, 4, 4, 4, 4, 4, 4, 4, 4, 4, 4, 4, 4, 4, 4, 4, 4, 4, 4, 4, 4, 4, 5, 4, 4, 5, 4, 5, 4, 4, 4, 4, 4, 5, 4, 4, 4, 4, 4, 4, 4, 5, 4, 4, 4, 4, 4, 4, 5, 4, 4, 4, 4, 4, 4, 4, 4, 4, 4, 4, 4, 4, 4, 4, 4, 4, 4, 4, 5, 5, 4, 4, 4, 4, 4, 4, 4, 4, 4, 4, 4, 4, 4, 5, 4, 5, 4, 4, 5, 4, 4, 4, 4, 4, 4, 4, 4, 4, 4, 4, 4, 4, 4, 4, 4, 4, 4, 4, 4, 4, 4, 4, 4, 4, 4, 4, 4, 4, 4, 4, 4, 4, 4, 4, 4, 4, 4, 4, 4, 4, 4, 4, 4, 4, 4, 4, 4, 4, 4, 4, 4, 5, 4, 4, 4, 4, 4, 4, 4, 4, 4, 4, 4, 4, 4, 4, 4, 4, 4, 4, 4, 4, 4, 4, 4, 4, 4, 4, 4, 4, 4, 4, 4, 4, 4, 4, 4, 4, 4, 4, 4, 4, 4, 4, 4, 4, 4, 5, 4, 4, 5, 4, 4, 4, 4, 4, 4, 4, 4, 4, 4, 4, 4, 4, 4, 5, 4, 4, 4, 4, 4, 4, 4, 4, 4, 4, 4, 4, 4, 4, 4]\n",
            "ratio:  0.0909\n",
            "aciertos 909\n"
          ],
          "name": "stdout"
        },
        {
          "output_type": "display_data",
          "data": {
            "image/png": "[encoded data removed]",
            "text/plain": [
              "<Figure size 432x288 with 1 Axes>"
            ]
          },
          "metadata": {
            "tags": [],
            "needs_background": "light"
          }
        }
      ]
    },
    {
      "cell_type": "markdown",
      "metadata": {
        "colab_type": "text",
        "id": "lcTahooUDh10"
      },
      "source": [
        "poker 3-10"
      ]
    },
    {
      "cell_type": "code",
      "metadata": {
        "id": "0znvOBJ9qrfp",
        "colab_type": "code",
        "colab": {
          "base_uri": "https://localhost:8080/",
          "height": 335
        },
        "outputId": "d437c83f-d4fe-4f84-cc9c-08031d3d35a3"
      },
      "source": [
        "b_e = [1,2,3,4,5,6,7,8,9,10,10,10,1,2,3,4,5,6,7,8,9,10,10,10,1,2,3,4,5,6,7,8,9,10,10,10,1,2,3,4,5,6,7,8,9,10,10,10] #baraja española\n",
        "h =[]       #cartas salidas del juego\n",
        "\n",
        "c_acierto=0 # contador aciertos\n",
        "w=[]\n",
        "n = 10000   #iteraciones\n",
        "i=0\n",
        "k=10\n",
        "while i < n:\n",
        "  suma_p =0 #suma provisional cada jugada\n",
        "  b_e = [1,2,3,4,6,8,9,10,10,10,1,2,3,4,5,6,8,9,10,10,10,1,2,3,4,5,6,7,8,9,10,10,10,1,2,3,4,5,6,7,8,9,10,10,10]\n",
        "  i+= 1\n",
        "  j=0 #iteracion de sacar cartas\n",
        "  m = [7,7,5]       #mano jugador\n",
        "  while j <= k:\n",
        "    j+=1                      #se desocupa medio deck\n",
        "    f = r.randrange(len(b_e))\n",
        "    h.append(b_e[f])\n",
        "    b_e.pop(f)\n",
        "  while sumalista(m) < 21:        #Juego\n",
        "    e = r.randrange(len(b_e))\n",
        "    m.append(b_e[e])              #agrega carta a la mano \n",
        "    b_e.pop(e)                    #quita carta de la baraja\n",
        "    suma_p=sumalista(m)\n",
        "  if suma_p == 21:               #Contador\\\n",
        "      c_acierto += 1\n",
        "      w.append(len(m))\n",
        "  while len(m) != 0:\n",
        "                     #devolucion de cartas\n",
        "    b_e.append(m[0])\n",
        "    m.pop(0)\n",
        "print(w)\n",
        "print(\"ratio: \",c_acierto/n)\n",
        "print(\"aciertos\", c_acierto)\n",
        "plt.hist(w,density=True)\n",
        "plt.show()"
      ],
      "execution_count": 14,
      "outputs": [
        {
          "output_type": "stream",
          "text": [
            "[4, 4, 4, 4, 4, 4, 4, 4, 4, 4, 5, 4, 4, 4, 4, 4, 4, 4, 4, 5, 4, 4, 4, 4, 4, 4, 4, 4, 4, 4, 4, 4, 4, 4, 4, 5, 4, 4, 4, 4, 4, 4, 4, 4, 4, 4, 4, 4, 4, 4, 4, 5, 4, 4, 4, 4, 4, 4, 4, 4, 4, 4, 4, 5, 4, 4, 4, 4, 4, 4, 5, 4, 4, 4, 4, 5, 4, 4, 5, 4, 4, 4, 4, 4, 4, 4, 4, 4, 4, 4, 4, 4, 4, 4, 4, 4, 4, 4, 5, 4, 4, 4, 4, 4, 4, 4, 5, 4, 4, 4, 5, 4, 4, 4, 4, 4, 5, 4, 4, 4, 4, 5, 4, 4, 4, 4, 4, 4, 4, 5, 4, 4, 4, 4, 4, 4, 5, 4, 4, 4, 4, 4, 4, 5, 4, 4, 4, 4, 4, 4, 4, 4, 4, 4, 4, 4, 4, 4, 4, 4, 4, 4, 4, 4, 4, 4, 4, 4, 4, 4, 4, 4, 4, 4, 4, 4, 4, 4, 4, 4, 4, 4, 4, 4, 5, 4, 4, 4, 4, 4, 4, 4, 4, 4, 4, 5, 5, 4, 4, 5, 4, 4, 4, 4, 4, 4, 5, 4, 4, 4, 5, 4, 4, 4, 4, 4, 4, 4, 4, 4, 4, 4, 4, 4, 4, 4, 4, 4, 4, 4, 4, 4, 4, 4, 4, 4, 4, 4, 4, 5, 4, 4, 4, 4, 5, 5, 4, 4, 4, 4, 4, 4, 4, 4, 4, 4, 4, 4, 4, 4, 4, 4, 4, 4, 4, 4, 4, 4, 4, 4, 5, 4, 4, 4, 5, 4, 4, 4, 4, 4, 4, 4, 4, 4, 4, 4, 4, 4, 4, 4, 5, 5, 4, 4, 4, 5, 4, 4, 4, 4, 4, 4, 4, 4, 4, 4, 4, 4, 4, 4, 4, 4, 4, 4, 5, 4, 4, 4, 4, 4, 4, 4, 4, 4, 4, 4, 4, 4, 4, 4, 4, 4, 4, 4, 4, 4, 4, 4, 4, 4, 4, 4, 5, 4, 4, 4, 4, 4, 4, 4, 4, 4, 4, 4, 4, 4, 4, 4, 4, 4, 4, 4, 4, 4, 4, 4, 4, 4, 4, 4, 4, 4, 4, 5, 5, 4, 4, 4, 4, 4, 4, 4, 4, 4, 4, 4, 4, 4, 4, 4, 4, 4, 4, 4, 4, 4, 4, 4, 4, 4, 4, 4, 4, 4, 4, 4, 4, 4, 4, 4, 4, 4, 4, 4, 4, 4, 5, 5, 4, 4, 4, 4, 4, 4, 4, 4, 4, 4, 4, 4, 4, 4, 5, 4, 4, 4, 4, 4, 4, 5, 4, 4, 4, 4, 4, 4, 4, 4, 4, 4, 4, 4, 4, 4, 4, 4, 4, 4, 4, 4, 4, 4, 4, 4, 4, 4, 4, 4, 4, 4, 4, 4, 4, 4, 4, 4, 4, 4, 5, 4, 4, 4, 4, 4, 4, 4, 4, 4, 4, 4, 5, 4, 4, 4, 5, 4, 4, 4, 4, 4, 5, 4, 4, 4, 4, 4, 4, 4, 4, 4, 4, 4, 4, 4, 4, 5, 4, 4, 4, 4, 4, 4, 4, 4, 4, 4, 4, 4, 4, 4, 4, 4, 4, 4, 4, 5, 4, 5, 4, 4, 4, 4, 4, 4, 4, 5, 4, 4, 4, 4, 4, 4, 4, 4, 4, 4, 4, 5, 4, 4, 4, 4, 5, 4, 4, 4, 4, 4, 4, 5, 4, 4, 4, 4, 4, 4, 4, 4, 4, 5, 4, 4, 4, 4, 4, 4, 4, 4, 4, 4, 4, 4, 4, 4, 4, 4, 4, 4, 4, 4, 4, 4, 4, 4, 4, 4, 4, 4, 4, 4, 4, 4, 4, 5, 4, 4, 4, 4, 4, 4, 5, 4, 4, 4, 4, 4, 4, 4, 4, 4, 4, 4, 4, 4, 4, 4, 4, 4, 4, 4, 4, 4, 4, 4, 4, 4, 4, 4, 4, 4, 4, 4, 4, 5, 4, 4, 4, 4, 5, 4, 4, 4, 4, 4, 4, 4, 4, 4, 4, 4, 5, 4, 4, 4, 4, 4, 4, 4, 4, 4, 4, 4, 4, 4, 4, 4, 4, 4, 4, 4, 4, 4, 4, 4, 4, 4, 4, 4, 4, 4, 4, 4, 4, 4, 4, 4, 4, 4, 4, 4, 4, 4, 4, 4, 4, 4, 4, 4, 5, 4, 4, 4, 4, 4, 4, 4, 4, 5, 4, 4, 4, 4, 4, 4, 4, 4, 4, 4, 4, 4, 4, 4, 4, 4, 4, 4, 4, 4, 4, 4, 4, 4, 4, 4, 4, 4, 4, 4, 4, 4, 4, 4, 4, 4, 5, 4, 4, 4, 4, 4, 4, 4, 4, 4, 4, 5, 4, 4, 4, 4, 4, 4, 4, 4, 4, 4, 4, 4, 4, 4, 4, 4, 4, 4, 4, 4, 4, 4, 4, 4, 4, 4, 4, 4, 4, 4, 4, 4, 4, 4, 4, 4, 4, 4, 4, 4, 4, 5, 4, 4, 4, 4, 4, 4, 4, 4, 4, 4, 4, 4, 4, 4, 4, 4, 4, 4, 4, 4, 4, 4, 4, 4, 4, 4, 4, 4, 4, 4, 4, 5, 4, 4, 4, 4, 4, 4, 4, 4, 4, 4, 4, 4, 4, 4, 4, 5, 4, 4, 4, 4, 5, 4, 5, 4, 4, 4, 4, 4, 4, 4, 4, 4, 4, 4, 4, 4, 4, 4, 4, 4, 4, 4, 4, 4, 4, 4, 4, 4, 4, 4, 4, 5, 4, 4, 5, 4, 4, 4, 4, 4, 4, 4, 4, 4, 4, 4, 4, 4, 4, 4, 4, 4, 4, 4, 4, 4, 4, 4]\n",
            "ratio:  0.0928\n",
            "aciertos 928\n"
          ],
          "name": "stdout"
        },
        {
          "output_type": "display_data",
          "data": {
            "image/png": "[encoded data removed]",
            "text/plain": [
              "<Figure size 432x288 with 1 Axes>"
            ]
          },
          "metadata": {
            "tags": [],
            "needs_background": "light"
          }
        }
      ]
    },
    {
      "cell_type": "markdown",
      "metadata": {
        "id": "_3caBlyHsaCa",
        "colab_type": "text"
      },
      "source": [
        "###hotdeck"
      ]
    },
    {
      "cell_type": "code",
      "metadata": {
        "id": "XxQqRgZ4seWT",
        "colab_type": "code",
        "colab": {
          "base_uri": "https://localhost:8080/",
          "height": 335
        },
        "outputId": "a94fd411-cdf7-403f-fe9c-e08418cacdf0"
      },
      "source": [
        "b_c = [3,4,6,8,9,10,10,10,3,4,5,6,8,9,10,10,10,3,4,5,6,7,8,9,10,10,10,3,4,5,6,7,8,9,10,10,10]\n",
        "c_acierto=0 # contador aciertos\n",
        "w=[]\n",
        "n = 10000   #iteraciones\n",
        "i=0\n",
        "k=10\n",
        "while i < n:\n",
        "  suma_p =0 #suma provisional cada jugada\n",
        "  b_e = [1,1,1,1,2,2,2,2]\n",
        "  while len(b_e)<k:\n",
        "    b_e.append(b_c[r.randrange(len(b_c))])\n",
        "  i+= 1\n",
        "  j=0 #iteracion de sacar cartas\n",
        "  m = [7,7,5]       #mano jugador\n",
        "  while sumalista(m) < 21:        #Juego\n",
        "    e = r.randrange(len(b_e))\n",
        "    m.append(b_e[e])              #agrega carta a la mano \n",
        "    b_e.pop(e)                    #quita carta de la baraja\n",
        "    suma_p=sumalista(m)\n",
        "  if suma_p == 21:               #Contador\\\n",
        "      c_acierto += 1\n",
        "      w.append(len(m))\n",
        "  while len(m) != 0:\n",
        "                     #devolucion de cartas\n",
        "    b_e.append(m[0])\n",
        "    m.pop(0)\n",
        "print(w)\n",
        "print(\"ratio: \",c_acierto/n)\n",
        "print(\"aciertos\", c_acierto)\n",
        "plt.hist(w,density=True)\n",
        "plt.show()"
      ],
      "execution_count": 15,
      "outputs": [
        {
          "output_type": "stream",
          "text": [
            "[4, 4, 4, 5, 4, 4, 4, 4, 4, 4, 4, 4, 4, 4, 4, 4, 4, 4, 4, 4, 4, 5, 4, 4, 4, 4, 4, 5, 4, 5, 4, 4, 4, 4, 5, 4, 5, 4, 4, 4, 5, 4, 4, 4, 4, 4, 4, 5, 5, 4, 5, 4, 4, 4, 5, 4, 4, 4, 4, 5, 4, 4, 5, 4, 5, 4, 5, 4, 4, 5, 4, 4, 4, 4, 4, 4, 4, 4, 4, 4, 4, 4, 4, 4, 4, 4, 4, 4, 4, 5, 5, 4, 4, 4, 4, 4, 5, 4, 4, 4, 4, 4, 4, 4, 5, 4, 4, 4, 5, 5, 4, 4, 5, 4, 4, 4, 5, 4, 4, 4, 5, 4, 4, 4, 4, 4, 4, 4, 5, 5, 4, 4, 4, 4, 4, 4, 4, 4, 4, 4, 4, 4, 4, 4, 4, 4, 4, 4, 5, 4, 4, 4, 4, 5, 4, 4, 4, 5, 5, 4, 5, 4, 4, 5, 4, 5, 5, 4, 4, 5, 4, 4, 4, 4, 4, 4, 4, 5, 4, 4, 4, 4, 4, 4, 4, 5, 4, 4, 4, 4, 4, 5, 5, 5, 4, 4, 4, 4, 4, 4, 4, 4, 4, 4, 4, 4, 5, 5, 4, 4, 4, 4, 5, 4, 4, 4, 4, 4, 4, 4, 4, 5, 4, 5, 4, 4, 5, 4, 4, 5, 4, 5, 5, 4, 5, 5, 5, 5, 4, 4, 4, 4, 5, 4, 4, 4, 5, 5, 4, 4, 4, 5, 4, 4, 4, 5, 5, 4, 4, 4, 4, 4, 5, 4, 4, 4, 4, 4, 5, 4, 4, 4, 4, 4, 4, 5, 4, 4, 4, 5, 4, 4, 5, 4, 4, 4, 4, 4, 5, 5, 5, 4, 5, 4, 4, 4, 4, 4, 4, 4, 4, 4, 4, 5, 4, 4, 4, 4, 4, 4, 4, 4, 4, 4, 4, 4, 4, 4, 4, 4, 4, 4, 4, 4, 5, 4, 4, 4, 4, 4, 4, 5, 5, 5, 4, 4, 4, 5, 4, 4, 5, 4, 4, 4, 4, 5, 5, 4, 4, 5, 5, 4, 4, 4, 5, 4, 4, 5, 4, 4, 4, 4, 4, 5, 4, 4, 5, 4, 5, 5, 4, 4, 4, 4, 4, 4, 4, 5, 5, 5, 5, 4, 5, 4, 4, 5, 4, 4, 5, 4, 4, 4, 4, 4, 4, 4, 4, 4, 4, 4, 5, 4, 5, 5, 4, 4, 4, 4, 4, 4, 4, 4, 4, 4, 4, 4, 5, 5, 5, 4, 4, 4, 4, 4, 4, 4, 5, 4, 4, 4, 4, 4, 4, 4, 4, 5, 4, 4, 5, 5, 4, 4, 4, 4, 4, 4, 4, 4, 5, 4, 4, 4, 4, 4, 5, 4, 4, 4, 4, 4, 4, 5, 4, 4, 5, 4, 4, 4, 4, 4, 4, 4, 4, 5, 4, 4, 5, 4, 5, 4, 4, 4, 4, 5, 4, 4, 5, 4, 4, 4, 4, 4, 5, 5, 4, 4, 4, 4, 4, 4, 4, 4, 4, 4, 5, 4, 4, 4, 5, 4, 5, 5, 4, 4, 5, 5, 4, 5, 4, 4, 4, 4, 4, 4, 4, 4, 5, 4, 4, 5, 5, 4, 4, 5, 4, 5, 4, 4, 4, 4, 4, 4, 5, 5, 4, 4, 4, 5, 5, 4, 5, 4, 4, 4, 5, 4, 4, 4, 4, 4, 4, 4, 4, 5, 4, 4, 4, 4, 4, 4, 4, 5, 4, 4, 4, 5, 4, 5, 4, 4, 4, 4, 4, 4, 4, 5, 4, 5, 4, 4, 5, 4, 4, 4, 4, 4, 5, 4, 4, 4, 4, 5, 4, 5, 4, 4, 4, 4, 5, 4, 5, 4, 4, 5, 5, 5, 4, 4, 5, 4, 4, 4, 4, 4, 4, 4, 5, 5, 4, 4, 4, 4, 5, 4, 5, 4, 4, 5, 4, 5, 4, 4, 5, 4, 4, 4, 4, 4, 4, 4, 5, 4, 4, 4, 4, 4, 4, 4, 4, 5, 4, 4, 5, 5, 4, 4, 4, 4, 4, 5, 4, 4, 5, 4, 4, 4, 4, 4, 4, 4, 4, 4, 4, 4, 4, 4, 4, 4, 5, 4, 4, 4, 4, 5, 4, 4, 4, 4, 4, 5, 4, 4, 4, 4, 4, 4, 5, 4, 4, 4, 4, 5, 4, 5, 4, 4, 5, 4, 4, 4, 4, 5, 4, 4, 5, 4, 5, 4, 4, 4, 4, 4, 5, 4, 4, 4, 4, 4, 5, 4, 4, 5, 4, 4, 5, 5, 4, 5, 4, 4, 4, 4, 4, 5, 4, 4, 4, 5, 4, 4, 4, 4, 4, 4, 4, 4, 4, 5, 4, 4, 4, 4, 4, 4, 4, 4, 5, 4, 4, 4, 4, 4, 4, 4, 5, 4, 4, 4, 4, 4, 4, 5, 5, 4, 4, 4, 4, 5, 4, 4, 4, 4, 4, 4, 5, 4, 4, 5, 4, 4, 4, 4, 4, 4, 4, 4, 4, 4, 5, 5, 5, 5, 5, 4, 5, 5, 4, 4, 4, 4, 4, 5, 4, 4, 4, 4, 5, 4, 4, 5, 4, 4, 5, 4, 4, 4, 5, 4, 4, 4, 5, 4, 4, 5, 5, 4, 4, 5, 4, 4, 4, 5, 4, 4, 4, 4, 4, 4, 4, 4, 4, 4, 4, 4, 4, 4, 4, 5, 4, 4, 4, 4, 5, 5, 4, 5, 4, 4, 4, 4, 4, 4, 5, 4, 4, 5, 4, 4, 4, 5, 5, 4, 4, 4, 5, 4, 4, 4, 4, 4, 4, 4, 4, 5, 5, 4, 4, 4, 5, 4, 5, 4, 4, 4, 4, 4, 4, 4, 4, 4, 4, 4, 4, 4, 5, 4, 5, 4, 4, 4, 4, 4, 4, 4, 4, 4, 5, 4, 4, 4, 5, 4, 4, 4, 4, 4, 4, 4, 4, 4, 4, 4, 4, 4, 4, 5, 5, 5, 4, 4, 5, 4, 5, 4, 4, 5, 5, 5, 4, 5, 4, 4, 4, 5, 4, 5, 4, 4, 5, 4, 4, 5, 4, 4, 5, 5, 4, 4, 4, 5, 4, 5, 4, 5, 4, 4, 4, 4, 4, 4, 5, 5, 5, 4, 5, 4, 5, 4, 4, 4, 4, 4, 5, 5, 5, 4, 4, 4, 5, 4, 5, 4, 4, 4, 4, 5, 5, 4, 4, 5, 4, 4, 5, 4, 5, 4, 4, 4, 4, 4, 4, 4, 4, 4, 4, 4, 4, 4, 4, 5, 4, 5, 4, 4, 4, 5, 5, 4, 4, 5, 5, 4, 4, 4, 4, 4, 5, 5, 4, 4, 4, 4, 5, 4, 4, 4, 5, 4, 5, 4, 4, 4, 4, 4, 4, 4, 4, 4, 5, 4, 4, 4, 4, 4, 4, 4, 4, 4, 4, 4, 4, 4, 4, 5, 4, 4, 5, 4, 4, 5, 5, 4, 4, 4, 4, 4, 4, 5, 4, 5, 4, 5, 4, 4, 4, 4, 4, 4, 5, 5, 5, 5, 4, 4, 4, 4, 4, 5, 4, 4, 5, 5, 5, 4, 4, 4, 4, 5, 5, 4, 4, 4, 5, 4, 4, 5, 4, 4, 4, 4, 5, 4, 4, 4, 4, 4, 4, 4, 4, 4, 5, 5, 4, 4, 4, 4, 4, 4, 4, 5, 5, 4, 4, 4, 5, 5, 4, 4, 4, 5, 4, 4, 4, 4, 4, 4, 4, 5, 4, 4, 4, 4, 4, 4, 5, 4, 4, 4, 5, 4, 5, 4, 4, 4, 5, 5, 5, 4, 4, 4, 4, 4, 4, 4, 5, 5, 4, 4, 5, 4, 5, 4, 4, 4, 5, 4, 4, 4, 4, 5, 5, 4, 4, 5, 5, 4, 5, 5, 4, 4, 4, 4, 5, 4, 4, 5, 4, 4, 4, 4, 4, 5, 4, 4, 4, 4, 4, 4, 4, 5, 4, 4, 5, 4, 4, 4, 4, 5, 4, 4, 5, 5, 5, 4, 5, 4, 4, 4, 4, 4, 5, 4, 4, 5, 4, 4, 4, 4, 5, 4, 4, 4, 5, 4, 4, 4, 4, 4, 5, 4, 4, 4, 5, 4, 4, 4, 4, 4, 4, 4, 5, 5, 4, 4, 5, 4, 4, 4, 4, 4, 4, 4, 4, 4, 4, 4, 4, 4, 4, 4, 4, 4, 4, 4, 4, 4, 4, 4, 4, 4, 4, 4, 5, 4, 4, 5, 4, 4, 4, 4, 4, 5, 4, 5, 4, 4, 5, 4, 4, 4, 4, 5, 5, 4, 5, 4, 4, 4, 4, 4, 5, 4, 5, 4, 4, 4, 5, 4, 4, 5, 4, 4, 4, 4, 5, 4, 4, 4, 5, 5, 4, 4, 5, 4, 4, 4, 4, 5, 5, 4, 4, 4, 4, 4, 4, 5, 5, 5, 4, 5, 4, 4, 4, 5, 5, 5, 4, 4, 4, 4, 4, 4, 5, 4, 4, 4, 4, 4, 5, 4, 4, 4, 4, 4, 4, 4, 4, 4, 4, 4, 4, 4, 5, 4, 5, 4, 4, 4, 5, 4, 4, 4, 4, 4, 5, 5, 5, 4, 5, 4, 4, 5, 4, 4, 4, 4, 4, 4, 4, 4, 4, 5, 4, 4, 4, 4, 4, 4, 4, 4, 5, 4, 4, 4, 4, 4, 5, 5, 4, 4, 4, 4, 5, 4, 4, 4, 4, 4, 4, 5, 4, 5, 4, 4, 4, 5, 4, 4, 4, 4, 4, 4, 4, 4, 4, 5, 4, 4, 4, 5, 4, 5, 4, 4, 4, 4, 4, 5, 4, 4, 4, 4, 5, 5, 4, 4, 4, 5, 4, 5, 4, 4, 4, 4, 5, 4, 4, 4, 5, 4, 5, 4, 5, 4, 4, 4, 4, 4, 5, 4, 4, 4, 4, 4, 4, 4, 4, 4, 4, 4, 4, 4, 4, 4, 4, 4, 4, 4, 4, 4, 5, 5, 4, 4, 5, 4, 4, 4, 4, 4, 4, 4, 4, 4, 5, 5, 5, 4, 4, 4, 4, 4, 4, 4, 4, 4, 5, 5, 4, 4, 4, 5, 4, 4, 4, 4, 5, 4, 4, 4, 4, 4, 4, 4, 4, 5, 4, 4, 4, 4, 4, 4, 5, 5, 5, 5, 4, 4, 4, 5, 4, 5, 4, 4, 4, 4, 5, 4, 4, 4, 5, 5, 4, 4, 5, 4, 4, 4, 4, 4, 4, 5, 5, 4, 4, 4, 5, 5, 4, 4, 4, 4, 5, 5, 4, 5, 4, 4, 4, 4, 4, 4, 4, 4, 4, 4, 4, 4, 5, 4, 4, 5, 4, 4, 5, 4, 5, 5, 4, 4, 4, 4, 4, 4, 4, 4, 4, 4, 4, 4, 5, 4, 4, 4, 4, 5, 4, 5, 4, 4, 4, 4, 4, 4, 4, 4, 4, 5, 5, 4, 4, 4, 4, 4, 4, 4, 4, 4, 4, 4, 4, 5, 4, 5, 4, 4, 5, 4, 4, 5, 4, 4, 5, 4, 4, 4, 4, 5, 4, 5, 4, 4, 4, 4, 4, 4, 4, 4, 5, 5, 4, 5, 5, 4, 4, 5, 4, 5, 4, 4, 4, 5, 5, 4, 5, 4, 4, 5, 4, 4, 4, 4, 5, 4, 4, 4, 4, 4, 4, 5, 4, 4, 4, 4, 5, 5, 4, 4, 4, 4, 4, 4, 4, 5, 4, 4, 4, 5, 4, 4, 4, 5, 5, 4, 4, 4, 4, 5, 5, 4, 4, 4, 4, 4, 5, 4, 4, 4, 5, 4, 5, 4, 4, 5, 4, 4, 4, 5, 4, 4, 4, 4, 4, 4, 4, 4, 4, 5, 5, 4, 4, 5, 4, 4, 5, 5, 4, 5, 4, 4, 4, 5, 4, 4, 4, 4, 4, 5, 4, 4, 4, 5, 4, 4, 4, 4, 4, 4, 5, 5, 4, 4, 4, 4, 4, 5, 4, 5, 4, 5, 5, 4, 4, 4, 5, 5, 4, 5, 4, 4, 5, 5, 4, 4, 5, 4, 4, 4, 4, 4, 5, 4, 4, 4, 4, 4, 4, 4, 4, 4, 5, 4, 4, 5, 4, 5, 5, 4, 4, 4, 5, 4, 4, 4, 4, 4, 4, 5, 4, 4, 5, 4, 4, 4, 4, 4, 5, 4, 5, 4, 5, 4, 4, 4, 4, 4, 4, 4, 4, 4, 4, 5, 5, 4, 5, 4, 4, 4, 4, 5, 4, 4, 5, 5, 5, 4, 5, 4, 4, 5, 5, 4, 4, 5, 4, 4, 4, 4, 4, 4, 4, 4, 4, 4, 5, 4, 5, 5, 4, 4, 5, 4, 5, 4, 5, 4, 4, 5, 5, 5, 5, 4, 4, 5, 4, 5, 4, 4, 4, 4, 4, 5, 5, 4, 4, 4, 5, 4, 4, 4, 5, 4, 4, 5, 4, 4, 4, 4, 4, 4, 4, 4, 4, 4, 4, 5, 5, 4, 4, 4, 4, 5, 4, 4, 4, 4, 5, 4, 4, 4, 5, 4, 4, 5, 5, 5, 4, 4, 4, 4, 4, 4, 4, 4, 4, 5, 5, 4, 4, 4, 4, 4, 4, 4, 4, 5, 5, 4, 5, 4, 5, 4, 4, 4, 4, 4, 4, 4, 4, 5, 5, 4, 4, 4, 4, 4, 4, 5, 4, 4, 4, 5, 4, 4, 4, 4, 4, 4, 4, 4, 4, 4, 4, 4, 4, 4, 4, 4, 4, 4, 5, 4, 4, 4, 4, 4, 4, 4, 4, 4, 5, 4, 4, 4, 4, 4, 4, 4, 4, 4, 4, 5, 4, 4, 4, 4, 4, 4, 4, 5, 4, 4, 5, 4, 4, 4, 5, 4, 4, 4, 5, 4, 5, 5, 4, 5, 4, 4, 5, 4, 5, 4, 4, 4, 4, 4, 4, 4, 5, 4, 5, 4, 4, 4, 4, 4, 4, 5, 5, 4, 4, 4, 4, 4, 4, 4, 5, 4, 4, 4, 4, 4, 4, 4, 4, 4, 5, 4, 4, 4, 4, 5, 4, 4, 5, 4, 4, 4, 4, 4, 5, 4, 4, 5, 4, 4, 4, 5, 4, 4, 5, 5, 4, 4, 4, 4, 4, 4, 4, 5, 4, 4, 4, 4, 5, 4, 4, 4, 4, 4, 4, 4, 4, 4, 4, 4, 4, 5, 4, 5, 4, 4, 5, 5, 4, 4, 5, 4, 5, 4, 5, 5, 4, 4, 4, 4, 5, 4, 4, 4, 5, 5, 4, 4, 5, 4, 5, 4, 4, 4, 4, 4, 4, 5, 4, 4, 4, 4, 5, 4, 5, 5, 4, 4, 5, 4, 4, 5, 4, 5, 4, 5, 5, 5, 4, 4, 4, 4, 4, 4, 4, 4, 4, 4, 4, 4, 4, 5, 5, 4, 5, 4, 4, 4, 4, 4, 4, 4, 4, 5, 4, 4, 4, 4, 4, 5, 4, 4, 4, 4, 4, 4, 4, 5, 4, 4, 5, 4, 5, 4, 4, 4, 4, 4, 4, 4, 5, 4, 4, 4, 5, 4, 4, 4, 5, 5, 5, 4, 4, 4, 4, 4, 5, 4, 5, 4, 4, 4, 4, 4, 4, 5, 5, 5, 4, 4, 4, 4, 4, 5, 4, 4, 5, 4, 4, 5, 5, 4, 4, 4, 4, 4, 4, 5, 4, 4, 4, 4, 4, 4, 4, 5, 5, 4, 4, 4, 4, 5, 4, 4, 4, 4, 5, 5, 4, 4, 4, 4, 4, 4, 4, 4, 4, 4, 4, 4, 4, 5, 4, 5, 4, 4, 4, 4, 5, 4, 5, 4, 5, 4, 4, 4, 4, 5, 4, 4, 4, 4, 4, 5, 4, 4, 4, 5, 4, 5, 5, 4, 4, 4, 4, 4, 4, 4, 4, 4, 4, 4, 4, 4, 4, 4, 5, 4, 5, 4, 4, 4, 4, 4, 4, 4, 5, 4, 4, 4, 4, 5, 5, 4, 4, 5, 4, 4, 4, 5, 5, 4, 4, 4, 5, 4, 4, 4, 4, 4, 4, 4, 4, 4, 5, 4, 4, 4, 4, 4, 5, 4, 5, 4, 4, 4, 5, 5, 4, 4, 4, 4, 5, 5, 4, 5, 4, 4, 4, 4, 4, 4, 4, 5, 4, 4, 4, 4, 4, 5, 4, 4, 4, 4, 4, 5, 4, 4, 5, 4, 4, 4, 4, 4, 4, 4, 4, 5, 5, 4, 5, 4, 5, 4, 4, 4, 5, 4, 5, 4, 4, 4, 4, 4, 4, 4, 4, 4, 4, 4, 4, 5, 5, 5, 4, 4, 4, 4, 4, 4, 4, 5, 4, 4, 5, 4, 4, 5, 5, 5, 4, 4, 4, 5, 4, 4, 4, 4, 4, 4, 5, 4, 4, 4, 4, 5, 4, 4, 5, 4, 5, 4, 5, 4, 4, 5, 4, 4, 4, 5, 4, 5, 5, 5, 4, 4, 5, 4, 4, 4, 4, 5, 4, 4, 4, 4, 4, 4, 4, 4, 4, 4, 5, 4, 4, 4, 5, 4, 4, 4, 4, 4, 4, 5, 4, 4, 4, 4, 4, 4, 5, 5, 4, 4, 4, 4, 4, 4, 4, 4, 4, 4, 5, 4, 4, 5, 4, 4, 4, 5, 4, 5, 5, 4, 5, 4, 4, 4, 4, 4, 4, 5, 4, 5, 4, 5, 5, 4, 4, 5, 4, 4, 4, 5, 4, 4, 4, 4, 4, 5, 4, 4, 4, 4, 4, 4, 4, 4, 4, 4, 4, 4, 4, 5, 5, 5, 5, 4, 4, 5, 4, 5, 4, 4, 4, 4, 5, 4, 4, 4, 5, 4, 5, 4, 4, 4, 4, 4, 4, 4, 4, 4, 4, 4, 4, 5, 5, 4, 4, 4, 4, 5, 4, 4, 5, 4, 4, 4, 4, 5, 4, 4, 4, 4, 4, 4, 4, 5, 5, 4, 4, 5, 4, 4, 4, 5, 4, 5, 4, 5, 4, 4, 5, 5, 4, 4, 4, 4, 4, 4, 4, 5, 4, 4, 5, 4, 5, 4, 4, 4, 4, 4, 4, 5, 4, 5, 5, 4, 4, 4, 5, 4, 4, 4, 4, 5, 5, 4, 4, 4, 4, 4, 5, 4, 4, 5, 4, 4, 4, 4, 5, 4, 4, 5, 4, 4, 4, 5, 4, 4, 5, 4, 4, 5, 4, 5, 5, 4, 4, 4, 5, 5, 5, 5, 4, 5, 4, 4, 4, 4, 4, 4, 4, 4, 5, 4, 4, 4, 4, 4, 4, 4, 4, 4, 4, 4, 4, 4, 4, 4, 4, 4, 4, 5, 4, 5, 5, 4, 4, 4, 4, 4, 4, 4, 4, 4, 5, 4, 4, 5, 4, 4, 4, 4, 4, 5, 4, 4, 4, 4, 4, 5, 5, 4, 5, 5, 5, 4, 4, 4, 4, 5, 5, 4, 4, 4, 5, 4, 4, 5, 4, 4, 4, 4, 4, 4, 5, 4, 4, 5, 4, 5, 4, 4, 5, 4, 4, 4, 4, 4, 4, 5, 5, 4, 4, 4, 4, 4, 5, 5, 5, 5, 4, 4, 4, 4, 4, 4, 5, 4, 4, 4, 4, 4, 4, 5, 5, 4, 4, 4, 4, 4, 4, 4, 4, 4, 4, 4, 4, 5, 5, 5, 4, 4, 4, 4, 4, 5, 4, 4, 4, 4, 4, 4, 4, 4, 5, 4, 4, 4, 5, 4, 5, 4, 4, 5, 4, 5, 4, 4, 4, 4, 4, 4, 4, 4, 5, 5, 4, 4, 4, 4, 4, 4, 5, 5, 4, 4, 4, 5, 4, 5, 4, 4, 5, 5, 5, 4, 4, 5, 4, 4, 4, 4, 4, 4, 4, 5, 4, 4, 4, 4, 4, 4, 4, 4, 5, 5, 5, 4, 4, 4, 4, 4, 4, 4, 4, 4, 5, 4, 4, 4, 4, 5, 4, 4, 5, 5, 4, 4, 5, 4, 4, 4, 4, 4, 4, 5, 4, 4, 5, 5, 4, 4, 4, 4, 5, 4, 4, 4, 5, 4, 5, 4, 4, 4, 4, 4, 4, 5, 4, 4, 4, 5, 4, 4, 5, 4, 4, 5, 5, 4, 4, 4, 4, 4, 5, 4, 4, 4, 4, 4, 4, 4, 4, 4, 5, 4, 4, 4, 4, 4, 4, 4, 4, 4, 4, 5, 4, 4, 4, 4, 4, 5, 5, 4, 5, 4, 4, 5, 4, 4, 4, 4, 4, 5, 4, 5, 5, 4, 4, 4, 4, 4, 4, 4, 4, 5, 4, 4, 5, 4, 5, 5, 4, 5, 5, 4, 4, 4, 4, 4, 4, 4, 5, 5, 4, 4, 4, 5, 4, 5, 4, 5, 4, 4, 4, 4, 5, 4, 4, 4, 5, 5, 4, 4, 4, 4, 5, 4, 4, 4, 4, 4, 4, 4, 5, 4, 4, 4, 4, 5, 4, 4, 4, 4, 4, 4, 4, 5, 4, 4, 5, 4, 4, 4, 5, 4, 4, 5, 4, 4, 4, 4, 4, 4, 4, 4, 5, 5, 4, 4, 4, 4, 4, 4, 4, 4, 4, 4, 4, 4, 4, 4, 4, 4, 4, 4, 4, 4, 4, 4, 4, 4, 5, 4, 5, 4, 5, 4, 4, 4, 4, 5, 4, 4, 5, 4, 4, 4, 4, 4, 5, 4, 5, 4, 5, 4, 4, 4, 4, 4, 4, 4, 5, 4, 5, 5, 4, 4, 5, 4, 4, 4, 5, 4, 5, 4, 4, 4, 4, 5, 4, 4, 4, 5, 4, 4, 4, 4, 5, 4, 4, 4, 4, 4, 4, 4, 5, 4, 5, 5, 4, 5, 4, 4, 4, 5, 4, 4, 4, 4, 4, 4, 4, 4, 4, 4, 4, 4, 4, 4, 4, 4, 4, 4, 4, 4, 4, 5, 4, 5, 4, 4, 4, 4, 5, 4, 4, 4, 5, 4, 4, 5, 4, 4, 5, 4, 4, 4, 4, 4, 4, 4, 4, 5, 4, 4, 5, 5, 4, 5, 4, 4, 4, 5, 4, 4, 5, 4, 4, 5, 4, 4, 4, 4, 4, 5, 4, 4, 5, 4, 5, 4, 4, 4, 4, 4, 4, 5, 5, 4, 5, 4, 4, 4, 4, 5, 5, 5, 5, 4, 5, 5, 4, 4, 4, 5, 4, 5, 4, 4, 4, 4, 4, 5, 4, 4, 4, 4, 4, 4, 4, 4, 4, 4, 5, 4, 4, 4, 5, 4, 4, 4, 4, 4, 5, 5, 4, 4, 5, 4, 4, 4, 4, 5, 4, 4, 4, 5, 4, 4, 4, 4, 4, 5, 5, 4, 4, 4, 4, 4, 4, 4, 4, 5, 4, 5, 4, 4, 5, 4, 4, 4, 5, 5, 5, 4, 5, 5, 5, 4, 4, 4, 4, 4, 4, 4, 4, 4, 4, 4, 4, 4, 4, 4, 5, 4, 4, 5, 4, 4, 4, 4, 5, 5, 4, 4, 4, 5, 4, 4, 4, 4, 4, 4, 5, 5, 4, 5, 4, 4, 4, 4, 4, 5, 4, 4, 4, 4, 4, 5, 4, 5, 5, 4, 5, 4, 4, 4, 4, 4, 4, 5, 5, 4, 5, 4, 5, 5, 4, 4, 4, 5, 4, 4, 4, 4, 4, 4, 4, 4, 4, 4, 4, 4, 4, 4, 5, 4, 4, 5, 4, 4, 5, 4, 4, 4, 4, 4, 4, 4, 4, 4, 4, 5, 4, 4, 5, 4, 4, 4, 5, 4, 4, 5, 4, 4, 4, 4, 4, 5, 4, 4, 4, 5, 5, 4, 4, 5, 4, 5, 4, 5, 4, 4, 4, 4, 4, 4, 4, 5, 5, 4, 4, 5, 4, 5, 4, 4, 5, 4, 4, 4, 5, 4, 5, 5, 4, 5, 5, 4, 4, 4, 5, 5, 5, 4, 5, 4, 4, 5, 4, 4, 5, 4, 5, 4, 5, 5, 4, 4, 4, 4, 4, 4, 4, 4, 4, 4, 4, 5, 4, 4, 4, 4, 4, 4, 4, 4, 4, 4, 4, 5, 4, 4, 4, 4, 4, 4, 4, 4, 4, 5, 4, 5, 5, 5, 4, 4, 5, 4, 5, 4, 4, 4, 4, 4, 4, 4, 4, 4, 4, 4, 5, 5, 5, 4, 4, 4, 4, 4, 4, 5, 5, 4, 4, 5, 5, 4, 4, 5, 5, 4, 4, 5, 4, 5, 4, 4, 4, 4, 4, 4, 4, 4, 5, 5, 4, 4, 4, 4, 5, 4, 4, 4, 4, 4, 4, 4, 4, 4, 4, 4, 5, 5, 4, 4, 4, 5, 4, 4, 4, 4, 5, 4, 4, 4, 4, 5, 4, 4, 4, 4, 4, 4, 4, 5, 5, 5, 5, 4, 4, 4, 4, 4, 4, 4, 4, 4, 4, 4, 5, 5, 4, 4, 5, 4, 4, 4, 4, 4, 4, 5, 4, 4, 4, 4, 4, 5, 4, 4, 5, 5, 4, 4, 4, 4, 4, 4, 5, 4, 4, 5, 4, 4, 4, 5, 4, 4, 4, 5, 4, 4, 5, 5, 4, 5, 4, 5, 4, 4, 5, 4, 4, 4, 4, 4, 4, 4, 4, 4, 5, 5, 4, 4, 4, 4, 4, 4, 4, 5, 5, 4, 4, 4, 4, 4, 4, 4, 4, 4, 4, 4, 4, 4, 4, 4, 4, 4, 4, 4, 4, 4, 4, 4, 4, 5, 4, 4, 4, 4, 4, 4, 5, 5, 4, 4, 4, 4, 5, 5, 4, 4, 4, 5, 5, 4, 4, 4, 4, 5, 4, 4, 5, 5, 4, 4, 5, 4, 4, 4, 4, 5, 4, 5, 4, 5, 4, 4, 5, 4, 4, 4, 4, 4, 4, 4, 5, 5, 4, 5, 4, 4, 5, 4, 4, 4, 4, 4, 4, 5, 4, 4, 5, 4, 4, 4, 4, 4, 4, 4, 4, 5, 4, 4, 4, 5, 4, 4, 4, 5, 4, 4, 5, 5, 5, 4, 4, 4, 4, 4, 4, 4, 5, 4, 4, 5, 4, 4, 4, 4, 4, 4, 5, 4, 4, 5, 4, 4, 5, 5, 4, 4, 5, 4, 4, 4, 5, 5, 5, 5, 5, 4, 4, 4, 5, 5, 5, 4, 4, 4, 5, 4, 5, 4, 4, 5, 4, 4, 4, 4, 4, 4, 5, 4, 4, 4, 4, 4, 4, 5, 4, 4, 4, 4, 4, 5, 4, 4, 4, 5, 4, 4, 4, 5, 4, 4, 5, 4, 4, 4, 4, 4, 5, 4, 4, 4, 4, 5, 4, 4, 4, 4, 4, 4, 4, 4, 5, 5, 4, 4, 5, 4, 5, 4, 5, 4, 5, 4, 4, 4, 5, 4, 5, 5, 5, 4, 4, 4, 4, 4, 4, 4, 5, 5, 5, 4, 5, 4, 4, 4, 5, 4, 4, 4, 4, 4, 4, 5, 4, 5, 4, 5, 5, 4, 4, 4, 4, 4, 4, 4, 4, 4, 5, 4, 4, 4, 4, 4, 4, 4, 4, 4, 4, 4, 5, 4, 5, 4, 4, 5, 4, 4, 4, 4, 4, 4, 4, 5, 4, 4, 5, 4, 4, 4, 5, 4, 4, 4, 5, 4, 5, 4, 5, 5, 4, 4, 4, 4, 4, 5, 4, 4, 5, 4, 5, 4, 4, 4, 5, 5, 5, 4, 4, 4, 4, 4, 4, 5, 5, 5, 5, 4, 5, 5, 4, 4, 4, 4, 5, 4, 4, 4, 5, 4, 4, 4, 4, 4, 4, 4, 4, 4, 4, 4, 4, 5, 4, 4, 4, 5, 4, 4, 5, 5, 4, 4, 4, 4, 4, 4, 4, 4, 5, 4, 5, 5, 4, 4, 4, 5, 4, 5, 4, 4, 4, 4, 5, 5, 4, 4, 4, 4, 4, 4, 4, 4, 4, 4, 4, 4, 4, 4, 4, 4, 5, 5, 5, 4, 4, 4, 4, 5, 4, 5, 4, 4, 4, 5, 4, 4, 4, 5, 4, 4, 5, 4, 4, 5, 4, 5, 4, 5, 4, 4, 4, 4, 4, 4, 4, 4, 5, 4, 4, 5, 4, 4, 5, 4, 5, 4, 4, 4, 4, 4, 4, 4, 4, 4, 4, 4, 4, 4, 4, 5, 4, 4, 4, 4, 4, 5, 4, 4, 4, 5, 4, 4, 4, 5, 5, 4, 4, 5, 5, 4, 4, 5, 4, 4, 4, 4, 4, 4, 4, 4, 4, 4, 5, 4, 4, 4, 4, 4, 4, 4, 4, 4, 5, 4, 4, 4, 4, 4, 4, 4, 5, 4, 5, 5, 4, 5, 4, 5, 5, 5, 4, 5, 5, 4, 4, 5, 4, 4, 4, 4, 4, 5, 5, 5, 5, 4, 5, 4, 4, 4, 4, 5, 4, 4, 5, 4, 4, 4, 4, 4, 5, 4, 4, 4, 5, 5, 4, 5, 4, 4, 4, 4, 5, 4, 4, 4, 4, 4, 4, 4, 5, 5, 4, 4, 5, 4, 4, 4, 4, 5, 5, 4, 4, 4, 5, 4, 4, 4, 5, 5, 4, 4, 4, 5, 4, 5, 5, 5, 4, 4, 4, 4, 5, 4, 4, 4, 4, 4, 5, 5, 4, 4, 4, 4, 4, 5, 5, 5, 4, 5, 5, 4, 4, 4, 4, 4, 4, 4, 5, 4, 4, 4, 5, 4, 4, 5, 4, 4, 5, 4, 4, 4, 4, 4, 4, 4, 4, 4, 4, 5, 4, 4, 4, 4, 4, 4, 4, 4, 5, 4, 4, 5, 4, 5, 5, 4, 4, 5, 4, 4, 5, 4, 4, 4, 4, 4, 4, 4, 4, 4, 5, 4, 4, 4, 4, 4, 4, 4, 4, 4, 4, 5, 5, 4, 5, 4, 4, 5, 4, 5, 4, 5, 5, 4, 4, 4, 4, 5, 4, 4, 4, 5, 4, 5, 4, 4, 4, 5, 4, 4, 4, 4, 4, 4, 5, 4, 4, 5, 4, 4, 4, 4, 5, 4, 4, 4, 4, 4, 4, 4, 4, 4, 4, 5, 4, 4, 4, 4, 5, 5, 4, 4, 5, 5, 4, 4, 5, 4, 5, 4, 4, 4, 4, 4, 4, 4, 4, 5, 4, 5, 4, 4, 4, 4, 5, 4, 5, 5, 4, 4, 4, 4, 4, 4, 5, 4, 4, 4, 4, 4, 4, 5, 5, 5, 4, 5, 4, 4, 5, 5, 4, 4, 4, 4, 4, 4, 5, 4, 4, 4, 4, 4, 5, 4, 4, 5, 4, 4, 4, 4, 4, 4, 4, 4, 4, 4, 4, 4, 4, 5, 5, 4, 4, 4, 4, 4, 4, 4, 4, 4, 4, 5, 4, 4, 4, 5, 4, 5, 4, 4, 4, 4, 4, 5, 4, 4, 5, 5, 5, 4, 4, 4, 5, 4, 4, 5, 4, 4, 4, 4, 4, 5, 5, 5, 5, 4, 4, 4, 4, 4, 4, 4, 4, 4, 5, 4, 4, 4, 5, 4, 4, 4, 4, 4, 4, 4, 4, 4, 4, 4, 5, 4, 4, 4, 4, 5, 4, 4, 4, 4, 4, 4, 5, 4, 4, 4, 4, 4, 4, 4, 5, 5, 5, 4, 5, 4, 4, 5, 4, 4, 4, 4, 4, 4, 4, 5, 4, 4, 4, 4, 4, 4, 4, 5, 4, 4, 4, 4, 4, 4, 4, 5, 4, 4, 4, 4, 4, 4, 4, 5, 4, 4, 4, 4, 4, 4, 4, 5, 4, 5, 4, 4, 5, 4, 4, 4, 5, 4, 4, 5, 4, 4, 4, 4, 4, 4, 4, 5, 4, 5, 5, 4, 4, 4, 4, 4, 4, 5, 4, 5, 5, 5, 4, 4, 4, 5, 4, 4, 4, 4, 4, 4, 4, 4, 4, 4, 5, 4, 4, 5, 4, 4, 4, 4, 4, 4, 4, 4, 4, 5, 5, 5, 5, 4, 5, 4, 4, 5, 5, 4, 4, 4, 4, 4, 4, 4, 4, 4, 4, 4, 4, 4, 5, 4, 4, 4, 4, 4, 4, 4, 4, 5, 5, 5, 4, 4, 4, 4, 5, 4, 4, 4, 4, 5, 5, 4, 4, 4, 4, 4, 4, 4, 5, 4, 4, 4, 5, 4, 4, 4, 5, 4, 4, 5, 4, 4, 4, 4, 4, 4, 4, 4, 5, 4, 5, 4, 4, 5, 4, 4, 5, 4, 5, 5, 5, 4, 4, 5, 4, 5, 4, 5, 4, 5, 4, 4, 5, 4, 4, 4, 5, 4, 4, 4, 4, 4, 5, 4, 4, 4, 4, 5, 4, 4, 4, 4, 4, 5, 4, 4, 4, 4, 5, 4, 5, 4, 5, 4, 4, 5, 4, 5, 5, 4, 5, 4, 4, 4, 4, 4, 5, 4, 4, 4, 4, 4, 4, 4, 5, 5, 4, 5, 4, 5, 5, 4, 4, 5, 4, 4, 4, 4, 5, 5, 4, 4, 4, 4, 4, 5, 5, 5, 4, 4, 4, 4, 5, 4, 4, 5, 5, 4, 4, 4, 5, 4, 4, 4, 4, 4, 5, 4, 4, 4, 4, 4, 4, 4, 4, 4, 4, 4, 5, 4, 4, 4, 4, 4, 5, 5, 4, 4, 4, 4, 4, 4, 4, 5, 4, 4, 4, 4, 4, 4, 4, 4, 4, 4, 4, 4, 5, 4, 5, 5, 4, 4, 4, 4, 5, 4, 4, 4, 4, 4, 4, 4, 5, 5, 5, 4, 4, 4, 4, 5, 5, 4, 4, 5, 4, 4, 5, 4, 4, 4, 4, 4, 4, 4, 4, 4, 4, 4, 4, 4, 4, 4, 4, 4, 4, 5, 4, 5, 4, 4, 4, 5, 4, 4, 5, 5, 4, 5, 5, 4, 5, 5, 4, 4, 4, 4, 4, 4, 4, 4, 4, 4, 4, 4, 4, 4, 4, 5, 4, 4, 5, 4, 4, 4, 4, 4, 4, 4, 5, 4, 5, 4, 4, 4, 5, 5, 4, 5, 4, 4, 4, 4, 4, 5]\n",
            "ratio:  0.54\n",
            "aciertos 5400\n"
          ],
          "name": "stdout"
        },
        {
          "output_type": "display_data",
          "data": {
            "image/png": "[encoded data removed]",
            "text/plain": [
              "<Figure size 432x288 with 1 Axes>"
            ]
          },
          "metadata": {
            "tags": [],
            "needs_background": "light"
          }
        }
      ]
    },
    {
      "cell_type": "markdown",
      "metadata": {
        "id": "2SIGOaWfr0kD",
        "colab_type": "text"
      },
      "source": [
        "##5."
      ]
    },
    {
      "cell_type": "markdown",
      "metadata": {
        "id": "J-n4ES4q1n_g",
        "colab_type": "text"
      },
      "source": [
        "Aplica para todas las barajas\n"
      ]
    },
    {
      "cell_type": "code",
      "metadata": {
        "id": "_qu7Xhg2vxgV",
        "colab_type": "code",
        "colab": {
          "base_uri": "https://localhost:8080/",
          "height": 318
        },
        "outputId": "ad7fe4df-8862-4058-b6da-44f3a1dafad7"
      },
      "source": [
        "h =[]       #cartas salidas del juego\n",
        "suma_p =0 #suma provisional cada jugada\n",
        "c_acierto=0 # contador aciertos\n",
        "w=[]\n",
        "n = 600   #Juegos en los que está Ben por fin de semana\n",
        "b=0       #billeteraa de ben\n",
        "i=0\n",
        "apuesta =0 #apuesta\n",
        "k=10\n",
        "while i < n:\n",
        "  if (r.random()<0.1):\n",
        "    b_e = [1,2,3,1,2,3,1,2,3,1,2,3]   #hot deck\n",
        "    apuesta = 1000\n",
        "  else:\n",
        "    b_e = [6,8,9,10,11,12,6,8,9,10,11,12,6,7,8,9,10,11,12,7,8,9,10,11,12]   #cold deck mitad baraja\n",
        "    apuesta = 10\n",
        "  b = b - apuesta    #Apuesta de ben\n",
        "  #print(b)\n",
        "  i+= 1\n",
        "  j=0 #iteracion de sacar cartas\n",
        "  m = [7,7,5]       #mano ben\n",
        "  while sumalista(m) < 21:        #Juego\n",
        "    e = r.randrange(len(b_e))\n",
        "    m.append(b_e[e])              #agrega carta a la mano \n",
        "    b_e.pop(e)                    #quita carta de la baraja\n",
        "    suma_p=sumalista(m)\n",
        "  if (sumalista(m)==21):\n",
        "    b += 2 * apuesta   #ben Gana 2000\n",
        "    c_acierto +=1\n",
        "    w.append(len(m))\n",
        "    #print(b)\n",
        "print(b)\n",
        "print(\"ratio: \",c_acierto/n)\n",
        "print(\"aciertos\", c_acierto)\n",
        "plt.hist(w,density=True)\n",
        "plt.show()"
      ],
      "execution_count": 16,
      "outputs": [
        {
          "output_type": "stream",
          "text": [
            "-12410\n",
            "ratio:  0.043333333333333335\n",
            "aciertos 26\n"
          ],
          "name": "stdout"
        },
        {
          "output_type": "display_data",
          "data": {
            "image/png": "[encoded data removed]",
            "text/plain": [
              "<Figure size 432x288 with 1 Axes>"
            ]
          },
          "metadata": {
            "tags": [],
            "needs_background": "light"
          }
        }
      ]
    },
    {
      "cell_type": "markdown",
      "metadata": {
        "id": "6XiF6Fohr5yG",
        "colab_type": "text"
      },
      "source": [
        "##6."
      ]
    },
    {
      "cell_type": "markdown",
      "metadata": {
        "id": "VFuHdPB8ok9E",
        "colab_type": "text"
      },
      "source": [
        "Hot deck 12 cartas"
      ]
    },
    {
      "cell_type": "code",
      "metadata": {
        "id": "UNLH1S16r3CD",
        "colab_type": "code",
        "colab": {
          "base_uri": "https://localhost:8080/",
          "height": 346
        },
        "outputId": "df3aef91-aa42-4c37-ca68-a863e21a92db"
      },
      "source": [
        "h =[]       #cartas salidas del juego\n",
        "suma_p =0 #suma provisional cada jugada\n",
        "c_acierto=0 # contador aciertos\n",
        "w=[]\n",
        "n = 10000000   #Juegos en los que está Ben por fin de semana\n",
        "b=0       #billeteraa de ben\n",
        "i=0\n",
        "while i < n:\n",
        "  b_e = [1,2,3,1,2,3,1,2,3,1,2,3]   #hot deck 12\n",
        "  b = b - 1000    #Apuesta de ben\n",
        "  #print(b)\n",
        "  i+= 1\n",
        "  j=0 #iteracion de sacar cartas\n",
        "  m = [7,7,5]       #mano ben\n",
        "  while sumalista(m) < 21:        #Juego\n",
        "    e = r.randrange(len(b_e))\n",
        "    m.append(b_e[e])              #agrega carta a la mano \n",
        "    b_e.pop(e)                    #quita carta de la baraja\n",
        "    suma_p=sumalista(m)\n",
        "  if (sumalista(m)==21):\n",
        "    b += 2000   #ben Gana 2000\n",
        "    c_acierto +=1\n",
        "    w.append(len(m))\n",
        "    #print(b)\n",
        "print(b)\n",
        "print(\"ratio: \",c_acierto/n)\n",
        "print(\"aciertos\", c_acierto)\n",
        "plt.xlabel('Numero de cartas')\n",
        "plt.ylabel('veces')\n",
        "plt.title('Cantidad de cartas para hacer 21')\n",
        "plt.hist(w,density=True)\n",
        "plt.show()"
      ],
      "execution_count": 17,
      "outputs": [
        {
          "output_type": "stream",
          "text": [
            "-1516424000\n",
            "ratio:  0.4241788\n",
            "aciertos 4241788\n"
          ],
          "name": "stdout"
        },
        {
          "output_type": "display_data",
          "data": {
            "image/png": "[encoded data removed]",
            "text/plain": [
              "<Figure size 432x288 with 1 Axes>"
            ]
          },
          "metadata": {
            "tags": [],
            "needs_background": "light"
          }
        }
      ]
    },
    {
      "cell_type": "markdown",
      "metadata": {
        "id": "7f7gGe0ioqnH",
        "colab_type": "text"
      },
      "source": [
        "Hot deck 10 cartas"
      ]
    },
    {
      "cell_type": "code",
      "metadata": {
        "id": "AdGgiRPUTr-H",
        "colab_type": "code",
        "colab": {
          "base_uri": "https://localhost:8080/",
          "height": 346
        },
        "outputId": "3c8b3c31-82f4-4ac7-e321-9585aa5137e7"
      },
      "source": [
        "h =[]       #cartas salidas del juego\n",
        "suma_p =0 #suma provisional cada jugada\n",
        "c_acierto=0 # contador aciertos\n",
        "w=[]\n",
        "n = 10000000   #Juegos en los que está Ben por fin de semana\n",
        "b=0       #billeteraa de ben\n",
        "i=0\n",
        "k=10\n",
        "while i < n:\n",
        "  b_e = [1,2,3,1,2,3,1,2,1,2]   #hot deck 10\n",
        "  b = b - 1000    #Apuesta de ben\n",
        "  #print(b)\n",
        "  i+= 1\n",
        "  j=0 #iteracion de sacar cartas\n",
        "  m = [7,7,5]       #mano ben\n",
        "  while sumalista(m) < 21:        #Juego\n",
        "    e = r.randrange(len(b_e))\n",
        "    m.append(b_e[e])              #agrega carta a la mano \n",
        "    b_e.pop(e)                    #quita carta de la baraja\n",
        "    suma_p=sumalista(m)\n",
        "  if (sumalista(m)==21):\n",
        "    b += 2000   #ben Gana 2000\n",
        "    c_acierto +=1\n",
        "    w.append(len(m))\n",
        "    #print(b)\n",
        "print(b)\n",
        "print(\"ratio: \",c_acierto/n)\n",
        "print(\"aciertos\", c_acierto)\n",
        "plt.xlabel('Numero de cartas')\n",
        "plt.ylabel('veces')\n",
        "plt.title('Cantidad de cartas para hacer 21')\n",
        "plt.hist(w,density=True)\n",
        "plt.show()"
      ],
      "execution_count": 18,
      "outputs": [
        {
          "output_type": "stream",
          "text": [
            "668790000\n",
            "ratio:  0.5334395\n",
            "aciertos 5334395\n"
          ],
          "name": "stdout"
        },
        {
          "output_type": "display_data",
          "data": {
            "image/png": "[encoded data removed]",
            "text/plain": [
              "<Figure size 432x288 with 1 Axes>"
            ]
          },
          "metadata": {
            "tags": [],
            "needs_background": "light"
          }
        }
      ]
    },
    {
      "cell_type": "markdown",
      "metadata": {
        "id": "f0FjIDPWo1Jb",
        "colab_type": "text"
      },
      "source": [
        "Hot deck 8 cartas"
      ]
    },
    {
      "cell_type": "code",
      "metadata": {
        "id": "nk5p8jUXTrt6",
        "colab_type": "code",
        "colab": {
          "base_uri": "https://localhost:8080/",
          "height": 346
        },
        "outputId": "dbd335fe-f56d-4dc7-d349-f1aefdea5cc8"
      },
      "source": [
        "h =[]       #cartas salidas del juego\n",
        "suma_p =0 #suma provisional cada jugada\n",
        "c_acierto=0 # contador aciertos\n",
        "w=[]\n",
        "n = 10000000   #Juegos en los que está Ben por fin de semana\n",
        "b=0       #billeteraa de ben\n",
        "i=0\n",
        "k=10\n",
        "while i < n:\n",
        "  b_e = [1,2,1,2,1,2,1,2]   #hot deck 8\n",
        "  b = b - 1000    #Apuesta de ben\n",
        "  #print(b)\n",
        "  i+= 1\n",
        "  j=0 #iteracion de sacar cartas\n",
        "  m = [7,7,5]       #mano ben\n",
        "  while sumalista(m) < 21:        #Juego\n",
        "    e = r.randrange(len(b_e))\n",
        "    m.append(b_e[e])              #agrega carta a la mano \n",
        "    b_e.pop(e)                    #quita carta de la baraja\n",
        "    suma_p=sumalista(m)\n",
        "  if (sumalista(m)==21):\n",
        "    b += 2000   #ben Gana 2000\n",
        "    c_acierto +=1\n",
        "    w.append(len(m))\n",
        "    #print(b)\n",
        "print(b)\n",
        "print(\"ratio: \",c_acierto/n)\n",
        "print(\"aciertos\", c_acierto)\n",
        "plt.xlabel('Numero de cartas')\n",
        "plt.ylabel('veces')\n",
        "plt.title('Cantidad de cartas para hacer 21')\n",
        "plt.hist(w,density=True)\n",
        "plt.show()"
      ],
      "execution_count": 19,
      "outputs": [
        {
          "output_type": "stream",
          "text": [
            "4282244000\n",
            "ratio:  0.7141122\n",
            "aciertos 7141122\n"
          ],
          "name": "stdout"
        },
        {
          "output_type": "display_data",
          "data": {
            "image/png": "[encoded data removed]",
            "text/plain": [
              "<Figure size 432x288 with 1 Axes>"
            ]
          },
          "metadata": {
            "tags": [],
            "needs_background": "light"
          }
        }
      ]
    }
  ]
}